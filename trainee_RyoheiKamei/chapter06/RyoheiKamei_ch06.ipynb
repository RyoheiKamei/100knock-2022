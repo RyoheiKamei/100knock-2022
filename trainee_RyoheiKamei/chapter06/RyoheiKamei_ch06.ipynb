{
 "cells": [
  {
   "cell_type": "code",
   "execution_count": 2,
   "id": "8fecf39b-3c5f-48d7-bf3e-38c483e2b194",
   "metadata": {},
   "outputs": [],
   "source": [
    "#第5章準備(ファイルの解答).実行は一度で良い.\n",
    "\n",
    "import zipfile\n",
    "\n",
    "# zipファイルに含まれているファイルの取り出し\n",
    "with zipfile.ZipFile(\"./data/NewsAggregatorDataset.zip\") as myzip:\n",
    "    myzip.extractall(\"./data\")\n"
   ]
  },
  {
   "cell_type": "markdown",
   "id": "3c6ddcfe-27f7-4b65-887e-fd4737977c62",
   "metadata": {},
   "source": [
    "## #50. データの入手・整形"
   ]
  },
  {
   "cell_type": "code",
   "execution_count": 2,
   "id": "7502c07f-9d08-4f3a-badb-a16a8f9fe3ec",
   "metadata": {},
   "outputs": [],
   "source": [
    "import pandas as pd\n",
    "\n",
    "csv_input = pd.read_table(filepath_or_buffer=\"./data/newsCorpora.csv\",\n",
    "                          header=None,\n",
    "                          sep=\"\\\\t\",\n",
    "                          names=[\"ID\", \"TITLE\", \"URL\", \"PUBLISHER\", \"CATEGORY\", \"STORY\", \"HOSTNAME\", \"TIMESTAMP\"],\n",
    "                          engine=\"python\")"
   ]
  },
  {
   "cell_type": "code",
   "execution_count": 3,
   "id": "f7a6eb49-b07c-4fcf-822c-7887f8f12896",
   "metadata": {},
   "outputs": [],
   "source": [
    "csv_input = csv_input[csv_input[\"PUBLISHER\"].isin([\"Reuters\", \"Huffington Post\", \"Businessweek\", \"Contactmusic.com\", \"Daily Mail\"])]"
   ]
  },
  {
   "cell_type": "code",
   "execution_count": 4,
   "id": "d8080bf9-8a5e-4e59-9a58-113838ba7ffc",
   "metadata": {},
   "outputs": [
    {
     "data": {
      "text/html": [
       "<div>\n",
       "<style scoped>\n",
       "    .dataframe tbody tr th:only-of-type {\n",
       "        vertical-align: middle;\n",
       "    }\n",
       "\n",
       "    .dataframe tbody tr th {\n",
       "        vertical-align: top;\n",
       "    }\n",
       "\n",
       "    .dataframe thead th {\n",
       "        text-align: right;\n",
       "    }\n",
       "</style>\n",
       "<table border=\"1\" class=\"dataframe\">\n",
       "  <thead>\n",
       "    <tr style=\"text-align: right;\">\n",
       "      <th></th>\n",
       "      <th>ID</th>\n",
       "      <th>TITLE</th>\n",
       "      <th>URL</th>\n",
       "      <th>PUBLISHER</th>\n",
       "      <th>CATEGORY</th>\n",
       "      <th>STORY</th>\n",
       "      <th>HOSTNAME</th>\n",
       "      <th>TIMESTAMP</th>\n",
       "    </tr>\n",
       "  </thead>\n",
       "  <tbody>\n",
       "    <tr>\n",
       "      <th>12</th>\n",
       "      <td>13</td>\n",
       "      <td>Europe reaches crunch point on banking union</td>\n",
       "      <td>http://in.reuters.com/article/2014/03/10/eu-ba...</td>\n",
       "      <td>Reuters</td>\n",
       "      <td>b</td>\n",
       "      <td>dPhGU51DcrolUIMxbRm0InaHGA2XM</td>\n",
       "      <td>in.reuters.com</td>\n",
       "      <td>1394470501755</td>\n",
       "    </tr>\n",
       "    <tr>\n",
       "      <th>13</th>\n",
       "      <td>14</td>\n",
       "      <td>ECB FOCUS-Stronger euro drowns out ECB's messa...</td>\n",
       "      <td>http://in.reuters.com/article/2014/03/10/ecb-p...</td>\n",
       "      <td>Reuters</td>\n",
       "      <td>b</td>\n",
       "      <td>dPhGU51DcrolUIMxbRm0InaHGA2XM</td>\n",
       "      <td>in.reuters.com</td>\n",
       "      <td>1394470501948</td>\n",
       "    </tr>\n",
       "    <tr>\n",
       "      <th>19</th>\n",
       "      <td>20</td>\n",
       "      <td>Euro Anxieties Wane as Bunds Top Treasuries, S...</td>\n",
       "      <td>http://www.businessweek.com/news/2014-03-10/ge...</td>\n",
       "      <td>Businessweek</td>\n",
       "      <td>b</td>\n",
       "      <td>dPhGU51DcrolUIMxbRm0InaHGA2XM</td>\n",
       "      <td>www.businessweek.com</td>\n",
       "      <td>1394470503148</td>\n",
       "    </tr>\n",
       "    <tr>\n",
       "      <th>20</th>\n",
       "      <td>21</td>\n",
       "      <td>Noyer Says Strong Euro Creates Unwarranted Eco...</td>\n",
       "      <td>http://www.businessweek.com/news/2014-03-10/no...</td>\n",
       "      <td>Businessweek</td>\n",
       "      <td>b</td>\n",
       "      <td>dPhGU51DcrolUIMxbRm0InaHGA2XM</td>\n",
       "      <td>www.businessweek.com</td>\n",
       "      <td>1394470503366</td>\n",
       "    </tr>\n",
       "    <tr>\n",
       "      <th>29</th>\n",
       "      <td>30</td>\n",
       "      <td>REFILE-Bad loan triggers key feature in ECB ba...</td>\n",
       "      <td>http://in.reuters.com/article/2014/03/10/euroz...</td>\n",
       "      <td>Reuters</td>\n",
       "      <td>b</td>\n",
       "      <td>dPhGU51DcrolUIMxbRm0InaHGA2XM</td>\n",
       "      <td>in.reuters.com</td>\n",
       "      <td>1394470505070</td>\n",
       "    </tr>\n",
       "    <tr>\n",
       "      <th>...</th>\n",
       "      <td>...</td>\n",
       "      <td>...</td>\n",
       "      <td>...</td>\n",
       "      <td>...</td>\n",
       "      <td>...</td>\n",
       "      <td>...</td>\n",
       "      <td>...</td>\n",
       "      <td>...</td>\n",
       "    </tr>\n",
       "    <tr>\n",
       "      <th>422818</th>\n",
       "      <td>422819</td>\n",
       "      <td>UN: Ebola Could Eventually Infect 20000 People</td>\n",
       "      <td>http://www.huffingtonpost.com/2014/08/28/ebola...</td>\n",
       "      <td>Huffington Post</td>\n",
       "      <td>m</td>\n",
       "      <td>dhhnSHVoyA7ENBM3boDX_D_-3PV6M</td>\n",
       "      <td>www.huffingtonpost.com</td>\n",
       "      <td>1409228423333</td>\n",
       "    </tr>\n",
       "    <tr>\n",
       "      <th>422819</th>\n",
       "      <td>422820</td>\n",
       "      <td>Ebola toll tops 1550, continues to accelerate ...</td>\n",
       "      <td>http://in.reuters.com/article/2014/08/28/healt...</td>\n",
       "      <td>Reuters</td>\n",
       "      <td>m</td>\n",
       "      <td>dhhnSHVoyA7ENBM3boDX_D_-3PV6M</td>\n",
       "      <td>in.reuters.com</td>\n",
       "      <td>1409228423827</td>\n",
       "    </tr>\n",
       "    <tr>\n",
       "      <th>422820</th>\n",
       "      <td>422821</td>\n",
       "      <td>UPDATE 1-Ebola toll tops 1550, outbreak accele...</td>\n",
       "      <td>http://in.reuters.com/article/2014/08/28/healt...</td>\n",
       "      <td>Reuters</td>\n",
       "      <td>m</td>\n",
       "      <td>dhhnSHVoyA7ENBM3boDX_D_-3PV6M</td>\n",
       "      <td>in.reuters.com</td>\n",
       "      <td>1409228424525</td>\n",
       "    </tr>\n",
       "    <tr>\n",
       "      <th>422827</th>\n",
       "      <td>422828</td>\n",
       "      <td>Ebola Cases May Surpass 20000, WHO Says in Upd...</td>\n",
       "      <td>http://www.businessweek.com/news/2014-08-28/eb...</td>\n",
       "      <td>Businessweek</td>\n",
       "      <td>m</td>\n",
       "      <td>dhhnSHVoyA7ENBM3boDX_D_-3PV6M</td>\n",
       "      <td>www.businessweek.com</td>\n",
       "      <td>1409228426943</td>\n",
       "    </tr>\n",
       "    <tr>\n",
       "      <th>422837</th>\n",
       "      <td>422838</td>\n",
       "      <td>Air France suspends flights to Ebola-hit Sierr...</td>\n",
       "      <td>http://www.dailymail.co.uk/travel/travel_news/...</td>\n",
       "      <td>Daily Mail</td>\n",
       "      <td>m</td>\n",
       "      <td>dhhnSHVoyA7ENBM3boDX_D_-3PV6M</td>\n",
       "      <td>www.dailymail.co.uk</td>\n",
       "      <td>1409228430383</td>\n",
       "    </tr>\n",
       "  </tbody>\n",
       "</table>\n",
       "<p>13356 rows × 8 columns</p>\n",
       "</div>"
      ],
      "text/plain": [
       "            ID                                              TITLE  \\\n",
       "12          13       Europe reaches crunch point on banking union   \n",
       "13          14  ECB FOCUS-Stronger euro drowns out ECB's messa...   \n",
       "19          20  Euro Anxieties Wane as Bunds Top Treasuries, S...   \n",
       "20          21  Noyer Says Strong Euro Creates Unwarranted Eco...   \n",
       "29          30  REFILE-Bad loan triggers key feature in ECB ba...   \n",
       "...        ...                                                ...   \n",
       "422818  422819     UN: Ebola Could Eventually Infect 20000 People   \n",
       "422819  422820  Ebola toll tops 1550, continues to accelerate ...   \n",
       "422820  422821  UPDATE 1-Ebola toll tops 1550, outbreak accele...   \n",
       "422827  422828  Ebola Cases May Surpass 20000, WHO Says in Upd...   \n",
       "422837  422838  Air France suspends flights to Ebola-hit Sierr...   \n",
       "\n",
       "                                                      URL        PUBLISHER  \\\n",
       "12      http://in.reuters.com/article/2014/03/10/eu-ba...          Reuters   \n",
       "13      http://in.reuters.com/article/2014/03/10/ecb-p...          Reuters   \n",
       "19      http://www.businessweek.com/news/2014-03-10/ge...     Businessweek   \n",
       "20      http://www.businessweek.com/news/2014-03-10/no...     Businessweek   \n",
       "29      http://in.reuters.com/article/2014/03/10/euroz...          Reuters   \n",
       "...                                                   ...              ...   \n",
       "422818  http://www.huffingtonpost.com/2014/08/28/ebola...  Huffington Post   \n",
       "422819  http://in.reuters.com/article/2014/08/28/healt...          Reuters   \n",
       "422820  http://in.reuters.com/article/2014/08/28/healt...          Reuters   \n",
       "422827  http://www.businessweek.com/news/2014-08-28/eb...     Businessweek   \n",
       "422837  http://www.dailymail.co.uk/travel/travel_news/...       Daily Mail   \n",
       "\n",
       "       CATEGORY                          STORY                HOSTNAME  \\\n",
       "12            b  dPhGU51DcrolUIMxbRm0InaHGA2XM          in.reuters.com   \n",
       "13            b  dPhGU51DcrolUIMxbRm0InaHGA2XM          in.reuters.com   \n",
       "19            b  dPhGU51DcrolUIMxbRm0InaHGA2XM    www.businessweek.com   \n",
       "20            b  dPhGU51DcrolUIMxbRm0InaHGA2XM    www.businessweek.com   \n",
       "29            b  dPhGU51DcrolUIMxbRm0InaHGA2XM          in.reuters.com   \n",
       "...         ...                            ...                     ...   \n",
       "422818        m  dhhnSHVoyA7ENBM3boDX_D_-3PV6M  www.huffingtonpost.com   \n",
       "422819        m  dhhnSHVoyA7ENBM3boDX_D_-3PV6M          in.reuters.com   \n",
       "422820        m  dhhnSHVoyA7ENBM3boDX_D_-3PV6M          in.reuters.com   \n",
       "422827        m  dhhnSHVoyA7ENBM3boDX_D_-3PV6M    www.businessweek.com   \n",
       "422837        m  dhhnSHVoyA7ENBM3boDX_D_-3PV6M     www.dailymail.co.uk   \n",
       "\n",
       "            TIMESTAMP  \n",
       "12      1394470501755  \n",
       "13      1394470501948  \n",
       "19      1394470503148  \n",
       "20      1394470503366  \n",
       "29      1394470505070  \n",
       "...               ...  \n",
       "422818  1409228423333  \n",
       "422819  1409228423827  \n",
       "422820  1409228424525  \n",
       "422827  1409228426943  \n",
       "422837  1409228430383  \n",
       "\n",
       "[13356 rows x 8 columns]"
      ]
     },
     "execution_count": 4,
     "metadata": {},
     "output_type": "execute_result"
    }
   ],
   "source": [
    "csv_input"
   ]
  },
  {
   "cell_type": "code",
   "execution_count": 5,
   "id": "dc31b8d7-f9c9-45c8-b608-e0be6a05561e",
   "metadata": {},
   "outputs": [
    {
     "data": {
      "text/html": [
       "<div>\n",
       "<style scoped>\n",
       "    .dataframe tbody tr th:only-of-type {\n",
       "        vertical-align: middle;\n",
       "    }\n",
       "\n",
       "    .dataframe tbody tr th {\n",
       "        vertical-align: top;\n",
       "    }\n",
       "\n",
       "    .dataframe thead th {\n",
       "        text-align: right;\n",
       "    }\n",
       "</style>\n",
       "<table border=\"1\" class=\"dataframe\">\n",
       "  <thead>\n",
       "    <tr style=\"text-align: right;\">\n",
       "      <th></th>\n",
       "      <th>ID</th>\n",
       "      <th>TITLE</th>\n",
       "      <th>URL</th>\n",
       "      <th>PUBLISHER</th>\n",
       "      <th>CATEGORY</th>\n",
       "      <th>STORY</th>\n",
       "      <th>HOSTNAME</th>\n",
       "      <th>TIMESTAMP</th>\n",
       "    </tr>\n",
       "  </thead>\n",
       "  <tbody>\n",
       "    <tr>\n",
       "      <th>396616</th>\n",
       "      <td>396617</td>\n",
       "      <td>Kendall Jenner Says Posing Topless For Love Ma...</td>\n",
       "      <td>http://www.huffingtonpost.com/2014/07/28/kenda...</td>\n",
       "      <td>Huffington Post</td>\n",
       "      <td>e</td>\n",
       "      <td>dSC3hbedbM3p94MTzafnxW4hr5DLM</td>\n",
       "      <td>www.huffingtonpost.com</td>\n",
       "      <td>1406659124397</td>\n",
       "    </tr>\n",
       "    <tr>\n",
       "      <th>307958</th>\n",
       "      <td>307959</td>\n",
       "      <td>China shares tepid despite flash PMI showing f...</td>\n",
       "      <td>http://in.reuters.com/article/2014/06/23/marke...</td>\n",
       "      <td>Reuters</td>\n",
       "      <td>b</td>\n",
       "      <td>d7ciPlHSS0FPGHM1D-xxX_18nfo-M</td>\n",
       "      <td>in.reuters.com</td>\n",
       "      <td>1403539603149</td>\n",
       "    </tr>\n",
       "    <tr>\n",
       "      <th>353539</th>\n",
       "      <td>353540</td>\n",
       "      <td>GLOBAL MARKETS-Asian stocks hit 3-year peak on...</td>\n",
       "      <td>http://in.reuters.com/article/2014/07/04/marke...</td>\n",
       "      <td>Reuters</td>\n",
       "      <td>b</td>\n",
       "      <td>dZLp0J9xIjEpAHMVP8Mueum3PRvlM</td>\n",
       "      <td>in.reuters.com</td>\n",
       "      <td>1404453390843</td>\n",
       "    </tr>\n",
       "    <tr>\n",
       "      <th>266549</th>\n",
       "      <td>266550</td>\n",
       "      <td>BREAKING: Wikipedia Is NOT A Doctor -- And A S...</td>\n",
       "      <td>http://www.huffingtonpost.com/2014/05/27/wikip...</td>\n",
       "      <td>Huffington Post</td>\n",
       "      <td>m</td>\n",
       "      <td>dTTAkrNE6455buMI7Y_2OATmJNkbM</td>\n",
       "      <td>www.huffingtonpost.com</td>\n",
       "      <td>1401372516016</td>\n",
       "    </tr>\n",
       "    <tr>\n",
       "      <th>40771</th>\n",
       "      <td>40772</td>\n",
       "      <td>Recently Engaged Mila Kunis &amp; Ashton Kutcher E...</td>\n",
       "      <td>http://www.contactmusic.com/in-depth/mila-kuni...</td>\n",
       "      <td>Contactmusic.com</td>\n",
       "      <td>e</td>\n",
       "      <td>dGJjpbd8pTvlgpMrzYqUericToePM</td>\n",
       "      <td>www.contactmusic.com</td>\n",
       "      <td>1395763571091</td>\n",
       "    </tr>\n",
       "    <tr>\n",
       "      <th>...</th>\n",
       "      <td>...</td>\n",
       "      <td>...</td>\n",
       "      <td>...</td>\n",
       "      <td>...</td>\n",
       "      <td>...</td>\n",
       "      <td>...</td>\n",
       "      <td>...</td>\n",
       "      <td>...</td>\n",
       "    </tr>\n",
       "    <tr>\n",
       "      <th>324698</th>\n",
       "      <td>324699</td>\n",
       "      <td>Barkhad Abdi - Barkhad Abdi Leads List Of New ...</td>\n",
       "      <td>http://www.contactmusic.com/story/barkhad-abdi...</td>\n",
       "      <td>Contactmusic.com</td>\n",
       "      <td>e</td>\n",
       "      <td>dckv9m-KW6-GGJMSSYjlNl2WeTqoM</td>\n",
       "      <td>www.contactmusic.com</td>\n",
       "      <td>1403868007825</td>\n",
       "    </tr>\n",
       "    <tr>\n",
       "      <th>413524</th>\n",
       "      <td>413525</td>\n",
       "      <td>UPDATE 1-Amazon to buy live-streaming game sit...</td>\n",
       "      <td>http://in.reuters.com/article/2014/08/25/amazo...</td>\n",
       "      <td>Reuters</td>\n",
       "      <td>t</td>\n",
       "      <td>dMBknFu1_w-c5FMFY7oyae0YPM6gM</td>\n",
       "      <td>in.reuters.com</td>\n",
       "      <td>1409002744898</td>\n",
       "    </tr>\n",
       "    <tr>\n",
       "      <th>338698</th>\n",
       "      <td>338699</td>\n",
       "      <td>RPT-Fitch Affirms Thailand's PTTGC at 'AA(tha)...</td>\n",
       "      <td>http://in.reuters.com/article/2014/06/30/fitch...</td>\n",
       "      <td>Reuters</td>\n",
       "      <td>b</td>\n",
       "      <td>dAe_I5OknnDy8kMIuE2FnEiHpR7wM</td>\n",
       "      <td>in.reuters.com</td>\n",
       "      <td>1404217828979</td>\n",
       "    </tr>\n",
       "    <tr>\n",
       "      <th>4272</th>\n",
       "      <td>4273</td>\n",
       "      <td>Sanjay Gupta Says Medical Marijuana Should Be ...</td>\n",
       "      <td>http://www.huffingtonpost.com/2014/03/10/sanja...</td>\n",
       "      <td>Huffington Post</td>\n",
       "      <td>m</td>\n",
       "      <td>deGkRmE5aHbs6kMtE8NwN79vpnZaM</td>\n",
       "      <td>www.huffingtonpost.com</td>\n",
       "      <td>1394549170161</td>\n",
       "    </tr>\n",
       "    <tr>\n",
       "      <th>151277</th>\n",
       "      <td>151278</td>\n",
       "      <td>Hollywood And Broadway Executives Fight Back O...</td>\n",
       "      <td>http://www.contactmusic.com/story/hollywood-an...</td>\n",
       "      <td>Contactmusic.com</td>\n",
       "      <td>e</td>\n",
       "      <td>dYEWJLdReMQAMtMhvlr5JpEvNTLDM</td>\n",
       "      <td>www.contactmusic.com</td>\n",
       "      <td>1398229640475</td>\n",
       "    </tr>\n",
       "  </tbody>\n",
       "</table>\n",
       "<p>13356 rows × 8 columns</p>\n",
       "</div>"
      ],
      "text/plain": [
       "            ID                                              TITLE  \\\n",
       "396616  396617  Kendall Jenner Says Posing Topless For Love Ma...   \n",
       "307958  307959  China shares tepid despite flash PMI showing f...   \n",
       "353539  353540  GLOBAL MARKETS-Asian stocks hit 3-year peak on...   \n",
       "266549  266550  BREAKING: Wikipedia Is NOT A Doctor -- And A S...   \n",
       "40771    40772  Recently Engaged Mila Kunis & Ashton Kutcher E...   \n",
       "...        ...                                                ...   \n",
       "324698  324699  Barkhad Abdi - Barkhad Abdi Leads List Of New ...   \n",
       "413524  413525  UPDATE 1-Amazon to buy live-streaming game sit...   \n",
       "338698  338699  RPT-Fitch Affirms Thailand's PTTGC at 'AA(tha)...   \n",
       "4272      4273  Sanjay Gupta Says Medical Marijuana Should Be ...   \n",
       "151277  151278  Hollywood And Broadway Executives Fight Back O...   \n",
       "\n",
       "                                                      URL         PUBLISHER  \\\n",
       "396616  http://www.huffingtonpost.com/2014/07/28/kenda...   Huffington Post   \n",
       "307958  http://in.reuters.com/article/2014/06/23/marke...           Reuters   \n",
       "353539  http://in.reuters.com/article/2014/07/04/marke...           Reuters   \n",
       "266549  http://www.huffingtonpost.com/2014/05/27/wikip...   Huffington Post   \n",
       "40771   http://www.contactmusic.com/in-depth/mila-kuni...  Contactmusic.com   \n",
       "...                                                   ...               ...   \n",
       "324698  http://www.contactmusic.com/story/barkhad-abdi...  Contactmusic.com   \n",
       "413524  http://in.reuters.com/article/2014/08/25/amazo...           Reuters   \n",
       "338698  http://in.reuters.com/article/2014/06/30/fitch...           Reuters   \n",
       "4272    http://www.huffingtonpost.com/2014/03/10/sanja...   Huffington Post   \n",
       "151277  http://www.contactmusic.com/story/hollywood-an...  Contactmusic.com   \n",
       "\n",
       "       CATEGORY                          STORY                HOSTNAME  \\\n",
       "396616        e  dSC3hbedbM3p94MTzafnxW4hr5DLM  www.huffingtonpost.com   \n",
       "307958        b  d7ciPlHSS0FPGHM1D-xxX_18nfo-M          in.reuters.com   \n",
       "353539        b  dZLp0J9xIjEpAHMVP8Mueum3PRvlM          in.reuters.com   \n",
       "266549        m  dTTAkrNE6455buMI7Y_2OATmJNkbM  www.huffingtonpost.com   \n",
       "40771         e  dGJjpbd8pTvlgpMrzYqUericToePM    www.contactmusic.com   \n",
       "...         ...                            ...                     ...   \n",
       "324698        e  dckv9m-KW6-GGJMSSYjlNl2WeTqoM    www.contactmusic.com   \n",
       "413524        t  dMBknFu1_w-c5FMFY7oyae0YPM6gM          in.reuters.com   \n",
       "338698        b  dAe_I5OknnDy8kMIuE2FnEiHpR7wM          in.reuters.com   \n",
       "4272          m  deGkRmE5aHbs6kMtE8NwN79vpnZaM  www.huffingtonpost.com   \n",
       "151277        e  dYEWJLdReMQAMtMhvlr5JpEvNTLDM    www.contactmusic.com   \n",
       "\n",
       "            TIMESTAMP  \n",
       "396616  1406659124397  \n",
       "307958  1403539603149  \n",
       "353539  1404453390843  \n",
       "266549  1401372516016  \n",
       "40771   1395763571091  \n",
       "...               ...  \n",
       "324698  1403868007825  \n",
       "413524  1409002744898  \n",
       "338698  1404217828979  \n",
       "4272    1394549170161  \n",
       "151277  1398229640475  \n",
       "\n",
       "[13356 rows x 8 columns]"
      ]
     },
     "execution_count": 5,
     "metadata": {},
     "output_type": "execute_result"
    }
   ],
   "source": [
    "shuffled_input = csv_input.sample(frac=1)\n",
    "shuffled_input"
   ]
  },
  {
   "cell_type": "code",
   "execution_count": 6,
   "id": "0ea4aabe-65ac-4cf1-81a8-c1d6df38a1b6",
   "metadata": {},
   "outputs": [
    {
     "data": {
      "image/png": "[encoded data removed]",
      "text/plain": [
       "<Figure size 1080x72 with 1 Axes>"
      ]
     },
     "metadata": {
      "needs_background": "light"
     },
     "output_type": "display_data"
    }
   ],
   "source": [
    "import mglearn\n",
    "\n",
    "mglearn.plots.plot_threefold_split()"
   ]
  },
  {
   "cell_type": "code",
   "execution_count": 7,
   "id": "7934879d-9a69-4b4d-9ff5-90d313468a53",
   "metadata": {},
   "outputs": [
    {
     "data": {
      "image/png": "[encoded data removed]",
      "text/plain": [
       "<Figure size 864x144 with 1 Axes>"
      ]
     },
     "metadata": {
      "needs_background": "light"
     },
     "output_type": "display_data"
    }
   ],
   "source": [
    "mglearn.plots.plot_cross_validation()"
   ]
  },
  {
   "cell_type": "code",
   "execution_count": 8,
   "id": "66efb08a-28b8-4c80-bff2-66329cbc4f2f",
   "metadata": {},
   "outputs": [],
   "source": [
    "from sklearn.model_selection import train_test_split\n",
    "\n",
    "X = shuffled_input[[\"TITLE\", \"CATEGORY\"]].copy()  #　このcopy(),めちゃくちゃ大事！pandasは=でコピーするとコピー先で何か変更があった際にコピー元にも同様の変更が反映されてしまう。\n",
    "X[\"CATEGORY\"] = X[\"CATEGORY\"].map({\"b\": 0, \"e\": 1, \"t\": 2, \"m\": 3})\n",
    "y = shuffled_input[\"CATEGORY\"]\n",
    "\n",
    "#scikit-learnのtrain_test_split()を使ってデータを分割する\n",
    "#train_test_splitでは以下のように複数データを分割可能\n",
    "train_data, val_test_data, y_train, y_val_test = train_test_split(X, y, test_size = 0.2, stratify=y, random_state=10)  # 学習データとそれ以外の分割\n",
    "valid_data, test_data = train_test_split(val_test_data, test_size=0.5, stratify=y_val_test, random_state=10)  # 検証データと評価データの分割\n",
    "\n",
    "#データをCSVファイルとして書き出し\n",
    "train_data.to_csv(\"./work/train.txt\", sep=\"\\t\", index=False, header=None)\n",
    "valid_data.to_csv(\"./work/valid.txt\", sep=\"\\t\", index=False, header=None)\n",
    "test_data.to_csv(\"./work/test.txt\", sep=\"\\t\", index=False, header=None)"
   ]
  },
  {
   "cell_type": "code",
   "execution_count": 9,
   "id": "82c5e53c-6d9d-43dd-9f85-a13e4e65617d",
   "metadata": {},
   "outputs": [
    {
     "name": "stdout",
     "output_type": "stream",
     "text": [
      "                                                    TITLE  CATEGORY\n",
      "396616  Kendall Jenner Says Posing Topless For Love Ma...         1\n",
      "307958  China shares tepid despite flash PMI showing f...         0\n",
      "353539  GLOBAL MARKETS-Asian stocks hit 3-year peak on...         0\n",
      "266549  BREAKING: Wikipedia Is NOT A Doctor -- And A S...         3\n",
      "40771   Recently Engaged Mila Kunis & Ashton Kutcher E...         1\n",
      "...                                                   ...       ...\n",
      "324698  Barkhad Abdi - Barkhad Abdi Leads List Of New ...         1\n",
      "413524  UPDATE 1-Amazon to buy live-streaming game sit...         2\n",
      "338698  RPT-Fitch Affirms Thailand's PTTGC at 'AA(tha)...         0\n",
      "4272    Sanjay Gupta Says Medical Marijuana Should Be ...         3\n",
      "151277  Hollywood And Broadway Executives Fight Back O...         1\n",
      "\n",
      "[13356 rows x 2 columns]\n"
     ]
    }
   ],
   "source": [
    "print(X)"
   ]
  },
  {
   "cell_type": "code",
   "execution_count": 10,
   "id": "35e12fa3-8d74-44c7-b03b-04d829352ad5",
   "metadata": {},
   "outputs": [
    {
     "name": "stdout",
     "output_type": "stream",
     "text": [
      "396616    e\n",
      "307958    b\n",
      "353539    b\n",
      "266549    m\n",
      "40771     e\n",
      "         ..\n",
      "324698    e\n",
      "413524    t\n",
      "338698    b\n",
      "4272      m\n",
      "151277    e\n",
      "Name: CATEGORY, Length: 13356, dtype: object\n"
     ]
    }
   ],
   "source": [
    "print(y)"
   ]
  },
  {
   "cell_type": "code",
   "execution_count": 11,
   "id": "0a2de742-e285-4e59-91f8-1f2256af0852",
   "metadata": {},
   "outputs": [
    {
     "name": "stdout",
     "output_type": "stream",
     "text": [
      "length of train_data = 10684\n",
      "length of valid_data = 1336\n",
      "length of test_data = 1336\n"
     ]
    }
   ],
   "source": [
    "print(\"length of train_data = {}\".format(len(train_data)))\n",
    "print(\"length of valid_data = {}\".format(len(valid_data)))\n",
    "print(\"length of test_data = {}\".format(len(test_data)))"
   ]
  },
  {
   "cell_type": "markdown",
   "id": "8b478cd6-e90b-47d2-bc35-ac44e41e6f69",
   "metadata": {},
   "source": [
    "## #51.特徴量抽出"
   ]
  },
  {
   "cell_type": "code",
   "execution_count": 12,
   "id": "4eb81066-d558-4e67-b696-0aa3c114ef29",
   "metadata": {},
   "outputs": [],
   "source": [
    "import re\n",
    "import pprint\n",
    "feature = []\n",
    "with open(\"./work/test.txt\") as f:\n",
    "    for line in f:\n",
    "        title, category_num = line.split(\"\\t\")\n",
    "        category_num = category_num.rstrip()\n",
    "        title = title.split(\" \")\n",
    "        \n",
    "        feature.append([title, category_num])\n",
    "\n",
    "#print(feature)\n",
    "#pprint.pprint(feature)"
   ]
  },
  {
   "cell_type": "code",
   "execution_count": 13,
   "id": "f4d16060-e523-46a9-a9e1-eda5f2c15daf",
   "metadata": {},
   "outputs": [
    {
     "name": "stdout",
     "output_type": "stream",
     "text": [
      "                                                   TITLE  CATEGORY\n",
      "0      Justin Bieber - Paparazzo Wants Justin Bieber ...         1\n",
      "1      Hertz to spin off equipment rental business fo...         0\n",
      "2        Lupita Nyong'o - Lupita Nyong'o's disco make-up         1\n",
      "3      Lady Gaga - Lady Gaga given sex toy for 28th b...         1\n",
      "4      Everything Is Doom And Gloom In First Trailer ...         1\n",
      "...                                                  ...       ...\n",
      "10679  WRAPUP 3-Co-pilot spoke last words heard from ...         0\n",
      "10680  UPDATE 4-Family Dollar, other retailers see sh...         0\n",
      "10681  UPDATE 2-Libya's El Sharara oilfield restart a...         0\n",
      "10682  AT&T says it will be the first carrier to sell...         2\n",
      "10683  Australia men have third best life expectancy ...         3\n",
      "\n",
      "[10684 rows x 2 columns]\n"
     ]
    }
   ],
   "source": [
    "train_data = pd.read_table(\"./work/train.txt\", header=None, names=[\"TITLE\", \"CATEGORY\"])\n",
    "valid_data = pd.read_table(\"./work/valid.txt\", header=None, names=[\"TITLE\", \"CATEGORY\"])\n",
    "test_data = pd.read_table(\"./work/test.txt\", header=None, names=[\"TITLE\", \"CATEGORY\"])\n",
    "\n",
    "print(train_data)"
   ]
  },
  {
   "cell_type": "code",
   "execution_count": 14,
   "id": "1356127e-a585-4918-bd09-1ea21b16403c",
   "metadata": {},
   "outputs": [],
   "source": [
    "#出現する単語のカウントを特徴量にする手法であるCountVectorizerを使ってみる.\n",
    "from sklearn.feature_extraction.text import CountVectorizer\n",
    "import pickle\n",
    "\n",
    "vectorizer = CountVectorizer(stop_words=\"english\")\n",
    "\n",
    "vectorizer.fit(train_data[\"TITLE\"])\n",
    "\n",
    "X_train = vectorizer.transform(train_data[\"TITLE\"])\n",
    "X_valid = vectorizer.transform(valid_data[\"TITLE\"])\n",
    "X_test = vectorizer.transform(test_data[\"TITLE\"])\n",
    "\n",
    "file_name = \"params.pkl\"\n",
    "\n",
    "for head_name in [\"train\", \"valid\", \"test\"]:\n",
    "    file_name = \"./work/{}.feature.pkl\".format(head_name)\n",
    "    with open(file_name, \"wb\") as f:\n",
    "        pickle.dump(globals()[\"X_\"+head_name], f)"
   ]
  },
  {
   "cell_type": "code",
   "execution_count": 15,
   "id": "6a391329-a901-4067-8e61-00fe23cf2f8a",
   "metadata": {},
   "outputs": [
    {
     "name": "stdout",
     "output_type": "stream",
     "text": [
      "<class 'scipy.sparse.csr.csr_matrix'>\n",
      "(1336, 12562)\n",
      "[[0 0 0 ... 0 0 0]\n",
      " [0 0 0 ... 0 0 0]\n",
      " [0 0 0 ... 0 0 0]\n",
      " ...\n",
      " [0 0 0 ... 0 0 0]\n",
      " [0 0 0 ... 0 0 0]\n",
      " [0 0 0 ... 0 0 0]]\n"
     ]
    }
   ],
   "source": [
    "with open(\"./work/test.feature.pkl\", \"rb\") as f:\n",
    "    data = pickle.load(f)\n",
    "\n",
    "print(type(data))\n",
    "print(data.shape)\n",
    "print(data.toarray())"
   ]
  },
  {
   "cell_type": "code",
   "execution_count": 16,
   "id": "2ce0ea5e-89c9-4261-9e3d-36d8342a3f81",
   "metadata": {},
   "outputs": [],
   "source": [
    "#もう一個、TF-IDF法を使ってみる(確認:TF-IDFとはTF（単語の出現頻度）とIDF（単語のレア度）を掛け合わせたもの)\n",
    "\n",
    "from sklearn.feature_extraction.text import TfidfVectorizer\n",
    "\n",
    "vectorizer2 = TfidfVectorizer(stop_words=\"english\")\n",
    "vectorizer2.fit(train_data[\"TITLE\"])\n",
    "\n",
    "X_train_TFIDF = vectorizer2.transform(train_data[\"TITLE\"])\n",
    "X_valid_TFIDF = vectorizer2.transform(valid_data[\"TITLE\"])\n",
    "X_test_TFIDF = vectorizer2.transform(test_data[\"TITLE\"])\n",
    "\n",
    "file_name = \"params.pkl\"\n",
    "\n",
    "for head_name in [\"train\", \"valid\", \"test\"]:\n",
    "    file_name = \"./work/{}_TFIDF.feature.pkl\".format(head_name)\n",
    "    with open(file_name, \"wb\") as f:\n",
    "        pickle.dump(globals()[\"X_\"+head_name+\"_TFIDF\"], f)"
   ]
  },
  {
   "cell_type": "code",
   "execution_count": 17,
   "id": "6521bf8b-b308-4d11-8817-d9a4522a3da4",
   "metadata": {},
   "outputs": [
    {
     "name": "stdout",
     "output_type": "stream",
     "text": [
      "<class 'scipy.sparse.csr.csr_matrix'>\n",
      "(1336, 12562)\n",
      "[[0. 0. 0. ... 0. 0. 0.]\n",
      " [0. 0. 0. ... 0. 0. 0.]\n",
      " [0. 0. 0. ... 0. 0. 0.]\n",
      " ...\n",
      " [0. 0. 0. ... 0. 0. 0.]\n",
      " [0. 0. 0. ... 0. 0. 0.]\n",
      " [0. 0. 0. ... 0. 0. 0.]]\n"
     ]
    }
   ],
   "source": [
    "with open(\"./work/test_TFIDF.feature.pkl\", \"rb\") as f:\n",
    "    data = pickle.load(f)\n",
    "\n",
    "print(type(data))\n",
    "print(data.shape)\n",
    "print(data.toarray())"
   ]
  },
  {
   "cell_type": "markdown",
   "id": "7f6fcfdc-53e6-4b99-8310-3927f8191fd1",
   "metadata": {},
   "source": [
    "## #52.学習"
   ]
  },
  {
   "cell_type": "code",
   "execution_count": 18,
   "id": "8cfc1c22-b135-4a4c-8d66-684e585859ac",
   "metadata": {},
   "outputs": [
    {
     "name": "stdout",
     "output_type": "stream",
     "text": [
      "Train set accuracy score = 0.9955073006364658\n"
     ]
    }
   ],
   "source": [
    "#ロジスティック回帰は、一連の予測変数の値に基づいて特性または結果の有無を予測する必要がある場合に役立つ。\n",
    "#線型回帰モデルに似ていますが、従属変数が二分変数であるモデルに適している。\n",
    "#ロジスティック回帰係数を使用して、モデル内の各独立変数のオッズ比を推定することができる。\n",
    "\n",
    "from sklearn.linear_model import LogisticRegression\n",
    "\n",
    "with open(\"./work/train.feature.pkl\", \"rb\") as f:\n",
    "    train_X = pickle.load(f)\n",
    "train_y = train_data[\"CATEGORY\"]\n",
    "\n",
    "model = LogisticRegression(max_iter=200)\n",
    "\n",
    "results = model.fit(train_X, train_y)\n",
    "\n",
    "print(\"Train set accuracy score = {}\".format(results.score(train_X, train_y)))"
   ]
  },
  {
   "cell_type": "code",
   "execution_count": 19,
   "id": "49d58b29-3301-40ec-8ecb-4b547fb535a9",
   "metadata": {},
   "outputs": [
    {
     "name": "stdout",
     "output_type": "stream",
     "text": [
      "Train set accuracy score(Using TF-IDF) = 0.9497379258704605\n"
     ]
    }
   ],
   "source": [
    "# TFIDFを用いた特徴量によって学習\n",
    "\n",
    "from sklearn.linear_model import LogisticRegression\n",
    "\n",
    "with open(\"./work/train_TFIDf.feature.pkl\", \"rb\") as f:\n",
    "    train_X_TFIDF = pickle.load(f)\n",
    "train_y_TFIDF = train_data[\"CATEGORY\"]\n",
    "\n",
    "model_TFIDF = LogisticRegression(max_iter=200)\n",
    "\n",
    "results_TFIDF = model_TFIDF.fit(train_X_TFIDF, train_y_TFIDF)\n",
    "\n",
    "print(\"Train set accuracy score(Using TF-IDF) = {}\".format(results_TFIDF.score(train_X_TFIDF, train_y_TFIDF)))"
   ]
  },
  {
   "cell_type": "markdown",
   "id": "7abb9e18-3475-490f-ace0-c3d648a4c745",
   "metadata": {},
   "source": [
    "## #53.予測"
   ]
  },
  {
   "cell_type": "code",
   "execution_count": 20,
   "id": "60020249-cbd7-41ba-89a0-784fffe43e84",
   "metadata": {},
   "outputs": [
    {
     "name": "stdout",
     "output_type": "stream",
     "text": [
      "[[3.19655168e-03 9.95776626e-01 4.26663629e-04 6.00158527e-04]\n",
      " [9.58718232e-01 1.99613123e-02 1.54274461e-02 5.89300932e-03]\n",
      " [1.03247619e-02 9.71477937e-01 1.34947625e-02 4.70253874e-03]\n",
      " ...\n",
      " [9.31976798e-01 2.42586751e-02 2.16644470e-02 2.21000795e-02]\n",
      " [2.25720760e-01 1.10033735e-01 6.31514465e-01 3.27310402e-02]\n",
      " [8.77338057e-02 1.91122951e-01 2.10825211e-02 7.00060722e-01]] (10684, 4)\n",
      "[1 0 1 ... 0 2 3] (10684,)\n"
     ]
    }
   ],
   "source": [
    "probs = model.predict_proba(train_X)\n",
    "pred = model.predict(train_X)\n",
    "\n",
    "print(probs, probs.shape)\n",
    "print(pred, pred.shape)"
   ]
  },
  {
   "cell_type": "code",
   "execution_count": 21,
   "id": "d2453466-abd1-447a-9888-cc6fa650200f",
   "metadata": {},
   "outputs": [
    {
     "name": "stdout",
     "output_type": "stream",
     "text": [
      "[[0.04820907 0.9160962  0.01939946 0.01629527]\n",
      " [0.83463823 0.0944866  0.04502743 0.02584774]\n",
      " [0.07621002 0.83622955 0.05625678 0.03130365]\n",
      " ...\n",
      " [0.73972464 0.12160425 0.07623203 0.06243908]\n",
      " [0.3840937  0.18170757 0.36878431 0.06541442]\n",
      " [0.15692531 0.38928956 0.09199766 0.36178747]] (10684, 4)\n",
      "[1 0 1 ... 0 0 1] (10684,)\n"
     ]
    }
   ],
   "source": [
    "probs_TFIDF = model_TFIDF.predict_proba(train_X_TFIDF)\n",
    "pred_TFIDF = model_TFIDF.predict(train_X_TFIDF)\n",
    "\n",
    "print(probs_TFIDF, probs_TFIDF.shape)\n",
    "print(pred_TFIDF, pred_TFIDF.shape)"
   ]
  },
  {
   "cell_type": "markdown",
   "id": "d045d824-68f7-45bb-9026-4753d3102b4b",
   "metadata": {},
   "source": [
    "## #54.正解率の計測"
   ]
  },
  {
   "cell_type": "code",
   "execution_count": 22,
   "id": "fbe77100-d40a-4919-8414-856b607cb1f5",
   "metadata": {},
   "outputs": [
    {
     "name": "stdout",
     "output_type": "stream",
     "text": [
      "train data accuracy : 0.9955073006364658\n",
      "test data accuracy : 0.907185628742515\n",
      "train data accuracy(Using TFIDF) : 0.9497379258704605\n",
      "test data accuracy(Using TFIDF) : 0.8794910179640718\n"
     ]
    }
   ],
   "source": [
    "from sklearn.metrics import accuracy_score\n",
    "\n",
    "with open(\"./work/test.feature.pkl\", 'rb') as f:\n",
    "    test_X = pickle.load(f)\n",
    "test_y = test_data['CATEGORY']\n",
    "\n",
    "with open(\"./work/test_TFIDF.feature.pkl\", 'rb') as f:\n",
    "    test_X_TFIDF = pickle.load(f)\n",
    "test_y_TFIDF = test_data['CATEGORY']\n",
    "\n",
    "\n",
    "pred = model.predict(train_X)\n",
    "print(\"train data accuracy : {}\".format(accuracy_score(train_y, pred)))\n",
    "pred = model.predict(test_X)\n",
    "print(\"test data accuracy : {}\".format(accuracy_score(test_y, pred)))\n",
    "\n",
    "pred_TFIDF = model_TFIDF.predict(train_X_TFIDF)\n",
    "print(\"train data accuracy(Using TFIDF) : {}\".format(accuracy_score(train_y_TFIDF, pred_TFIDF)))\n",
    "pred_TFIDF = model_TFIDF.predict(test_X_TFIDF)\n",
    "print(\"test data accuracy(Using TFIDF) : {}\".format(accuracy_score(test_y_TFIDF, pred_TFIDF)))"
   ]
  },
  {
   "cell_type": "markdown",
   "id": "4e93e3a9-126f-42f9-91c9-43337bd8f0a9",
   "metadata": {},
   "source": [
    "## #55.混同行列の作成"
   ]
  },
  {
   "cell_type": "code",
   "execution_count": 23,
   "id": "8c9510f6-b8cb-4fbf-b03f-27ee9c7e03f2",
   "metadata": {},
   "outputs": [
    {
     "name": "stdout",
     "output_type": "stream",
     "text": [
      "[[4487    6    7    1]\n",
      " [   6 4228    1    0]\n",
      " [  14    6 1200    0]\n",
      " [   3    4    0  721]]\n"
     ]
    },
    {
     "data": {
      "image/png": "[encoded data removed]",
      "text/plain": [
       "<Figure size 432x288 with 2 Axes>"
      ]
     },
     "metadata": {
      "needs_background": "light"
     },
     "output_type": "display_data"
    }
   ],
   "source": [
    "#学習データ\n",
    "\n",
    "from sklearn.metrics import confusion_matrix\n",
    "import seaborn as sns\n",
    "import matplotlib.pyplot as plt\n",
    "\n",
    "pred = model.predict(train_X)\n",
    "\n",
    "cm = confusion_matrix(train_y, pred)\n",
    "\n",
    "print(cm)\n",
    "\n",
    "sns.heatmap(cm, cmap=\"Blues\")\n",
    "plt.savefig('./work/#55_TrainData.png')"
   ]
  },
  {
   "cell_type": "code",
   "execution_count": 24,
   "id": "a32f2de9-048b-46df-93a7-d24034b173e8",
   "metadata": {},
   "outputs": [
    {
     "name": "stdout",
     "output_type": "stream",
     "text": [
      "[[533  17  10   3]\n",
      " [ 14 512   3   0]\n",
      " [ 31  17 103   2]\n",
      " [  9  17   1  64]]\n"
     ]
    },
    {
     "data": {
      "image/png": "[encoded data removed]",
      "text/plain": [
       "<Figure size 432x288 with 2 Axes>"
      ]
     },
     "metadata": {
      "needs_background": "light"
     },
     "output_type": "display_data"
    }
   ],
   "source": [
    "#評価データ\n",
    "\n",
    "from sklearn.metrics import confusion_matrix\n",
    "import seaborn as sns\n",
    "import matplotlib.pyplot as plt\n",
    "\n",
    "pred = model.predict(test_X)\n",
    "\n",
    "cm = confusion_matrix(test_y, pred)\n",
    "\n",
    "print(cm)\n",
    "\n",
    "sns.heatmap(cm, cmap=\"Blues\")\n",
    "plt.savefig('./work/#55_TestData.png')"
   ]
  },
  {
   "cell_type": "markdown",
   "id": "b9d2dc7e-ea7c-4cf8-b509-40106b4d125d",
   "metadata": {},
   "source": [
    "## #56.適合率,再現率,F1スコアの計測"
   ]
  },
  {
   "cell_type": "code",
   "execution_count": 25,
   "id": "bb09835a-23e8-4bfe-8321-f7c24ebef2a3",
   "metadata": {},
   "outputs": [
    {
     "name": "stdout",
     "output_type": "stream",
     "text": [
      "適合率 = [0.90800681 0.90941385 0.88034188 0.92753623]\n",
      "\n",
      "再現率 = [0.94671403 0.96786389 0.67320261 0.7032967 ]\n",
      "\n",
      "F1スコア = [0.92695652 0.93772894 0.76296296 0.8       ]\n",
      "\n",
      "\n",
      "-----ミクロ平均-----\n",
      "\n",
      "適合率 = 0.907185628742515\n",
      "\n",
      "再現率 = 0.907185628742515\n",
      "\n",
      "F1スコア = 0.907185628742515\n",
      "\n",
      "\n",
      "-----マクロ平均-----\n",
      "\n",
      "適合率 = 0.9063246952219193\n",
      "\n",
      "再現率 = 0.8227693109468139\n",
      "\n",
      "F1スコア = 0.8569121056077578\n",
      "\n",
      "\n"
     ]
    }
   ],
   "source": [
    "from sklearn.metrics import precision_score\n",
    "from sklearn.metrics import recall_score\n",
    "from sklearn.metrics import f1_score\n",
    "\n",
    "#\n",
    "pred = model.predict(test_X)\n",
    "test_y = test_data['CATEGORY']\n",
    "\n",
    "print(\"適合率 = {}\\n\".format(precision_score(test_y, pred, average=None)))\n",
    "print(\"再現率 = {}\\n\".format(recall_score(test_y, pred, average=None)))\n",
    "print(\"F1スコア = {}\\n\\n\".format(f1_score(test_y, pred, average=None)))\n",
    "\n",
    "#ミクロ平均\n",
    "print(\"-----ミクロ平均-----\\n\")\n",
    "print(\"適合率 = {}\\n\".format(precision_score(test_y, pred, average=\"micro\")))\n",
    "print(\"再現率 = {}\\n\".format(recall_score(test_y, pred, average=\"micro\")))\n",
    "print(\"F1スコア = {}\\n\\n\".format(f1_score(test_y, pred, average=\"micro\")))\n",
    "\n",
    "#マクロ平均\n",
    "print(\"-----マクロ平均-----\\n\")\n",
    "print(\"適合率 = {}\\n\".format(precision_score(test_y, pred, average=\"macro\")))\n",
    "print(\"再現率 = {}\\n\".format(recall_score(test_y, pred, average=\"macro\")))\n",
    "print(\"F1スコア = {}\\n\\n\".format(f1_score(test_y, pred, average=\"macro\")))"
   ]
  },
  {
   "cell_type": "markdown",
   "id": "bbb6c904-7d5d-479c-a67c-e026a150b473",
   "metadata": {},
   "source": [
    "## #57.特徴量の重みの確認"
   ]
  },
  {
   "cell_type": "code",
   "execution_count": 26,
   "id": "7a46dea1-deb7-4dc3-a83a-970f3f49d87f",
   "metadata": {},
   "outputs": [
    {
     "name": "stdout",
     "output_type": "stream",
     "text": [
      "(4, 12562)\n",
      "[[  548  3788   464 ...  3791  1218  4358]\n",
      " [ 4997 10860  4964 ...  8180  2291  6211]\n",
      " [10761 11936  8250 ...  7224  4997  4236]\n",
      " [ 4964  3389  4236 ...  1961  4343  3788]]\n",
      "\n",
      "---top 10 FeatureNames---\n",
      "b: ['oil', 'ipo', 'obamacare', 'stocks', 'china', 'ukraine', 'argentina', 'ecb', 'bank', 'fed']\n",
      "\n",
      "e: ['trailer', 'thrones', 'beyonce', 'cyrus', 'movie', 'cannes', 'miley', 'paul', 'chris', 'kardashian']\n",
      "\n",
      "t: ['moon', 'tesla', 'nasa', 'fcc', 'heartbleed', 'climate', 'apple', 'microsoft', 'google', 'facebook']\n",
      "\n",
      "m: ['health', 'cdc', 'brain', 'drug', 'cases', 'study', 'mers', 'cancer', 'fda', 'ebola']\n",
      "\n",
      "---worst 10 FeatureNames---\n",
      "b: ['aereo', 'ebola', 'activision', 'twitch', 'heartbleed', 'cap', 'virus', 'nintendo', 'subscription', 'baby']\n",
      "\n",
      "e: ['google', 'study', 'gm', 'facebook', 'china', 'billion', 'microsoft', 'rise', 'oil', 'prices']\n",
      "\n",
      "t: ['stocks', 'valued', 'percent', 'quarter', 'raise', 'drug', 'day', 'health', 'american', 'fed']\n",
      "\n",
      "m: ['gm', 'dimon', 'facebook', 'ceo', 'climate', 'apple', 'twitter', 'fed', 'netflix', 'amazon']\n",
      "\n"
     ]
    }
   ],
   "source": [
    "import numpy as np\n",
    "\n",
    "TargetNames = [\"b\", \"e\", \"t\", \"m\"]\n",
    "\n",
    "param = model.coef_  # 重みは.coef_によって確認できる\n",
    "print(param.shape)\n",
    "\n",
    "decend_index = np.argsort(param)\n",
    "print(decend_index)\n",
    "print()\n",
    "FeatureNames = vectorizer.get_feature_names()\n",
    "\n",
    "#print(FeatureNames)\n",
    "\n",
    "print(\"---top 10 FeatureNames---\")\n",
    "for label_id in range(4):\n",
    "    top_feature = [FeatureNames[id] for id in decend_index[label_id][-10:]]\n",
    "    print(\"{label}: {value}\\n\".format(label = TargetNames[label_id], value=top_feature))\n",
    "\n",
    "print(\"---worst 10 FeatureNames---\")\n",
    "for label_id in range(4):\n",
    "    top_feature = [FeatureNames[id] for id in decend_index[label_id][:10]]\n",
    "    print(\"{label}: {value}\\n\".format(label = TargetNames[label_id], value=top_feature))"
   ]
  },
  {
   "cell_type": "markdown",
   "id": "a99e3030-1915-4568-80a9-a23b3d0930ae",
   "metadata": {},
   "source": [
    "## #58.正則化パラメータの変更"
   ]
  },
  {
   "cell_type": "code",
   "execution_count": 29,
   "id": "7b3868a3-8845-483a-a7dc-f29439902025",
   "metadata": {},
   "outputs": [
    {
     "name": "stdout",
     "output_type": "stream",
     "text": [
      "0.001\n",
      "0.01\n",
      "0.1\n",
      "1.0\n",
      "10.0\n",
      "100.0\n",
      "1000.0\n"
     ]
    }
   ],
   "source": [
    "C_list = np.array([10 ** (i - 3) for i in range(7)])\n",
    "acc_list = np.zeros((3, len(C_list)))\n",
    "\n",
    "with open(\"./work/valid.feature.pkl\", \"rb\") as f:\n",
    "    valid_X = pickle.load(f)\n",
    "\n",
    "valid_y = valid_data[\"CATEGORY\"]\n",
    "\n",
    "for i, C_num in enumerate(C_list):\n",
    "    print(C_num)\n",
    "    model = LogisticRegression(C=C_num, random_state=0, max_iter=1000)\n",
    "    model.fit(train_X, train_y)\n",
    "    \n",
    "    pred = model.predict(train_X)\n",
    "    acc_list[0][i] = accuracy_score(train_y, pred)\n",
    "    \n",
    "    pred = model.predict(valid_X)\n",
    "    acc_list[1][i] = accuracy_score(valid_y, pred)\n",
    "    \n",
    "    pred = model.predict(test_X)\n",
    "    acc_list[2][i] = accuracy_score(test_y, pred)"
   ]
  },
  {
   "cell_type": "code",
   "execution_count": 43,
   "id": "e4c2cbec-175d-4163-9598-f599a4cac64f",
   "metadata": {},
   "outputs": [
    {
     "data": {
      "image/png": "[encoded data removed]",
      "text/plain": [
       "<Figure size 432x288 with 1 Axes>"
      ]
     },
     "metadata": {
      "needs_background": "light"
     },
     "output_type": "display_data"
    }
   ],
   "source": [
    "import matplotlib.pyplot as plt\n",
    "\n",
    "plt.plot(C_list, acc_list[0], label = \"train\")\n",
    "plt.plot(C_list, acc_list[1], label = \"valid\")\n",
    "plt.plot(C_list, acc_list[2], label = \"test\")\n",
    "\n",
    "plt.legend(bbox_to_anchor=(0.90, 0.40), loc=\"upper right\", borderaxespad=0)\n",
    "\n",
    "plt.xlabel(\"C value\")\n",
    "plt.ylabel(\"acc of test data\")\n",
    "\n",
    "plt.xscale(\"log\")\n",
    "\n",
    "plt.show()"
   ]
  },
  {
   "cell_type": "code",
   "execution_count": null,
   "id": "8fa961b1-1954-48c5-b51a-ca3f017a41a1",
   "metadata": {},
   "outputs": [],
   "source": []
  }
 ],
 "metadata": {
  "kernelspec": {
   "display_name": "Python 3",
   "language": "python",
   "name": "python3"
  },
  "language_info": {
   "codemirror_mode": {
    "name": "ipython",
    "version": 3
   },
   "file_extension": ".py",
   "mimetype": "text/x-python",
   "name": "python",
   "nbconvert_exporter": "python",
   "pygments_lexer": "ipython3",
   "version": "3.8.8"
  }
 },
 "nbformat": 4,
 "nbformat_minor": 5
}
