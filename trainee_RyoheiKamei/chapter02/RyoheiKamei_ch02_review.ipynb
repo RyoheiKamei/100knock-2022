{
 "cells": [
  {
   "cell_type": "code",
   "execution_count": 1,
   "id": "dadf1c3b-46ee-46ed-8add-fb2cbc43e14b",
   "metadata": {},
   "outputs": [],
   "source": [
    "fpath = \"./data/popular-names.txt\""
   ]
  },
  {
   "cell_type": "markdown",
   "id": "e04956b5-9a8a-404b-ae84-69fc30e011c4",
   "metadata": {},
   "source": [
    "## #10.行数のカウント"
   ]
  },
  {
   "cell_type": "code",
   "execution_count": 9,
   "id": "d8052a63-db3e-4329-9e8b-ed5b5c15f392",
   "metadata": {},
   "outputs": [
    {
     "name": "stdout",
     "output_type": "stream",
     "text": [
      "This file has 2780 lines.\n"
     ]
    }
   ],
   "source": [
    "with open(fpath, \"r\") as f:\n",
    "    out = f.readlines()\n",
    "    print(\"This file has {} lines.\".format(len(out)))"
   ]
  },
  {
   "cell_type": "code",
   "execution_count": 18,
   "id": "99efd324-8489-4059-9b7c-8872e6d1a9f6",
   "metadata": {},
   "outputs": [
    {
     "name": "stdout",
     "output_type": "stream",
     "text": [
      "           name sex  number  year\n",
      "0          Mary   F    7065  1880\n",
      "1          Anna   F    2604  1880\n",
      "2          Emma   F    2003  1880\n",
      "3     Elizabeth   F    1939  1880\n",
      "4        Minnie   F    1746  1880\n",
      "...         ...  ..     ...   ...\n",
      "2775   Benjamin   M   13381  2018\n",
      "2776     Elijah   M   12886  2018\n",
      "2777      Lucas   M   12585  2018\n",
      "2778      Mason   M   12435  2018\n",
      "2779      Logan   M   12352  2018\n",
      "\n",
      "[2780 rows x 4 columns]\n",
      "---------------\n",
      "2780\n"
     ]
    }
   ],
   "source": [
    "#データフレームpandasを使う\n",
    "import pandas as pd\n",
    "\n",
    "df = pd.read_table(fpath, header=None, names=[\"name\", \"sex\", \"number\", \"year\"])\n",
    "\n",
    "print(df)\n",
    "print(\"---------------\")\n",
    "print(len(df))"
   ]
  },
  {
   "cell_type": "code",
   "execution_count": 19,
   "id": "cdf59066-37b5-43a0-9667-fcef8c36b365",
   "metadata": {},
   "outputs": [
    {
     "name": "stdout",
     "output_type": "stream",
     "text": [
      "    2780 ./data/popular-names.txt\n"
     ]
    }
   ],
   "source": [
    "#UNIXコマンドでの実行\n",
    "!wc -l ./data/popular-names.txt "
   ]
  },
  {
   "cell_type": "markdown",
   "id": "fa812aa5-04ea-490d-b7e2-be5a6dd5dc33",
   "metadata": {},
   "source": [
    "## 11.タブをスペースに置換"
   ]
  },
  {
   "cell_type": "code",
   "execution_count": 21,
   "id": "5afbdcbe-646e-45b6-8e66-71224d3517cc",
   "metadata": {},
   "outputs": [
    {
     "name": "stdout",
     "output_type": "stream",
     "text": [
      "Mary F 7065 1880\n",
      "\n",
      "Anna F 2604 1880\n",
      "\n",
      "Emma F 2003 1880\n",
      "\n",
      "Elizabeth F 1939 1880\n",
      "\n",
      "Minnie F 1746 1880\n",
      "\n",
      "Margaret F 1578 1880\n",
      "\n",
      "Ida F 1472 1880\n",
      "\n",
      "Alice F 1414 1880\n",
      "\n",
      "Bertha F 1320 1880\n",
      "\n",
      "Sarah F 1288 1880\n",
      "\n"
     ]
    }
   ],
   "source": [
    "with open(fpath, \"r\") as f:\n",
    "    for i, line in enumerate(f):\n",
    "        if i == 10: break\n",
    "        line = line.replace(\"\\t\", \" \")\n",
    "        print(line)"
   ]
  },
  {
   "cell_type": "code",
   "execution_count": null,
   "id": "d54aa2c6-b008-4e26-8dab-ecf4ea536360",
   "metadata": {
    "tags": []
   },
   "outputs": [],
   "source": [
    "!sed -e \"s/\\t/ /g\" ./data/popular-names.txt  # sed -e \"s/置換元/置換後/g\" ファイル名"
   ]
  },
  {
   "cell_type": "markdown",
   "id": "6963a8c7-627c-4a81-9381-945b3229d070",
   "metadata": {},
   "source": [
    "## #12.1列目をcol1.txtに,2列目をcol2.txtに保存"
   ]
  },
  {
   "cell_type": "code",
   "execution_count": 36,
   "id": "5cc5819b-891f-4836-abe6-f271af536c87",
   "metadata": {},
   "outputs": [],
   "source": [
    "with open(fpath, \"r\") as f, open(\"./work/col1_review.txt\", \"w\") as col1, open(\"./work/col2_review.txt\", \"w\") as col2:\n",
    "    for line in f:\n",
    "        line = line.rstrip().split(\"\\t\")[:2]\n",
    "        assert len(line) == 2  # assertは,assert以降の条件がTrueの場合は何も起きず,Falseの時はAssertionErrorが生じて必要に応じてエラーメッセージが生成される\n",
    "        col1.write(line[0])\n",
    "        col1.write(\"\\n\")\n",
    "        \n",
    "        col2.write(line[1])\n",
    "        col2.write(\"\\n\")"
   ]
  },
  {
   "cell_type": "code",
   "execution_count": 42,
   "id": "4e688f28-7ad6-40e0-8137-893d5dcf2bdd",
   "metadata": {},
   "outputs": [
    {
     "name": "stdout",
     "output_type": "stream",
     "text": [
      "-----データフレームの中身-----\n",
      "              0  1\n",
      "0          Mary  F\n",
      "1          Anna  F\n",
      "2          Emma  F\n",
      "3     Elizabeth  F\n",
      "4        Minnie  F\n",
      "...         ... ..\n",
      "2775   Benjamin  M\n",
      "2776     Elijah  M\n",
      "2777      Lucas  M\n",
      "2778      Mason  M\n",
      "2779      Logan  M\n",
      "\n",
      "[2780 rows x 2 columns]\n",
      "\n",
      "-----データフレームの情報-----\n",
      "<class 'pandas.core.frame.DataFrame'>\n",
      "RangeIndex: 2780 entries, 0 to 2779\n",
      "Data columns (total 2 columns):\n",
      " #   Column  Non-Null Count  Dtype \n",
      "---  ------  --------------  ----- \n",
      " 0   0       2780 non-null   object\n",
      " 1   1       2780 non-null   object\n",
      "dtypes: object(2)\n",
      "memory usage: 328.7 KB\n"
     ]
    }
   ],
   "source": [
    "#データフレームを使う方法\n",
    "import pandas as pd\n",
    "\n",
    "df = pd.read_table(fpath, header=None, usecols=[0, 1])\n",
    "\n",
    "print(\"-----データフレームの中身-----\")\n",
    "print(df, end = \"\\n\\n\")\n",
    "\n",
    "print(\"-----データフレームの情報-----\")\n",
    "df.info(memory_usage=\"deep\")\n",
    "\n",
    "df[0].to_csv(\"./work/col1_review_df.txt\", index=False, header=False)\n",
    "df[1].to_csv(\"./work/col2_review_df.txt\", index=False, header=False)"
   ]
  },
  {
   "cell_type": "code",
   "execution_count": 38,
   "id": "57805e4c-8f34-4de2-b6c1-297925d6f6a0",
   "metadata": {},
   "outputs": [],
   "source": [
    "!cut -f 1 ./data/popular-names.txt > ./work/col1_review_command.txt\n",
    "!cut -f 2 ./data/popular-names.txt > ./work/col2_review_command.txt"
   ]
  },
  {
   "cell_type": "markdown",
   "id": "4b4bdc75-b8f1-49fd-9c85-59011b1953a5",
   "metadata": {},
   "source": [
    "## #13.col1とcol2をマージ"
   ]
  },
  {
   "cell_type": "code",
   "execution_count": 45,
   "id": "3d9f8652-34c6-44a9-8a97-0cb42666706f",
   "metadata": {},
   "outputs": [],
   "source": [
    "with open(\"./work/col1.txt\", \"r\") as fr1, open(\"./work/col2.txt\", \"r\") as fr2, open(\"./work/MergeCol1_2_review.txt\", \"w\") as fw:\n",
    "    for line1, line2 in zip(fr1, fr2):\n",
    "        fw.write(line1.rstrip())\n",
    "        fw.write(\"\\t\")\n",
    "        fw.write(line2)"
   ]
  },
  {
   "cell_type": "code",
   "execution_count": null,
   "id": "80c8d1d6-116d-457e-8c1d-fe8d54b9f7f1",
   "metadata": {},
   "outputs": [],
   "source": []
  }
 ],
 "metadata": {
  "kernelspec": {
   "display_name": "Python 3",
   "language": "python",
   "name": "python3"
  },
  "language_info": {
   "codemirror_mode": {
    "name": "ipython",
    "version": 3
   },
   "file_extension": ".py",
   "mimetype": "text/x-python",
   "name": "python",
   "nbconvert_exporter": "python",
   "pygments_lexer": "ipython3",
   "version": "3.8.8"
  }
 },
 "nbformat": 4,
 "nbformat_minor": 5
}
