{
 "cells": [
  {
   "cell_type": "code",
   "execution_count": 18,
   "id": "e5e4c0df-f81f-418f-b676-74e290213fa8",
   "metadata": {},
   "outputs": [
    {
     "name": "stdout",
     "output_type": "stream",
     "text": [
      "desserts\n",
      "None\n",
      "desserts\n",
      "desserts\n"
     ]
    }
   ],
   "source": [
    "#00.文字列の逆順\n",
    "\n",
    "Word00 = \"stressed\"\n",
    "\n",
    "# 以下で確認できる通り、str形はリストになっている\n",
    "# for i in range(len(Word)):\n",
    "#     print(Word[i])\n",
    "    \n",
    "print(Word00[::-1])  # [start:end:step]\n",
    "\n",
    "Reversed_Word00 = list(Word00)\n",
    "print(Reversed_Word00.reverse())   # reverseが返すのはNone\n",
    "print(\"\".join(Reversed_Word00))\n",
    "# print(\"\".join(Word00.reverse()))  # str型にreverse()は使えないので、←はエラーとなる\n",
    "\n",
    "print(\"\".join(reversed(Word00)))"
   ]
  },
  {
   "cell_type": "code",
   "execution_count": 21,
   "id": "bcb2f97c-4346-4b54-b1d2-ea5806308da3",
   "metadata": {},
   "outputs": [
    {
     "name": "stdout",
     "output_type": "stream",
     "text": [
      "パトカー\n",
      "タクシー\n"
     ]
    }
   ],
   "source": [
    "#01.「パタトクカシーー」\n",
    "\n",
    "Word01 = \"パタトクカシーー\"\n",
    "\n",
    "print(Word01[::2])\n",
    "print(Word01[1::2])"
   ]
  },
  {
   "cell_type": "code",
   "execution_count": 28,
   "id": "8afe3f9f-aa64-4fe8-8523-fdee235c1474",
   "metadata": {},
   "outputs": [
    {
     "name": "stdout",
     "output_type": "stream",
     "text": [
      "パタトクカシーー\n",
      "パタトクカシーー\n"
     ]
    }
   ],
   "source": [
    "#02.「パトカー」 + 「タクシー」 = 「パタトクカシー」\n",
    "\n",
    "P = \"パトカー\"\n",
    "T = \"タクシー\"\n",
    "\n",
    "print(\"\".join([i + j for i, j in zip(P, T)]))  # それぞれから1文字ずつ抜いていく方法以外のやりかた\n",
    "print(\"\".join([P[i] + T[i] for i in range(len(P))]))"
   ]
  },
  {
   "cell_type": "code",
   "execution_count": 47,
   "id": "ab86212e-ec08-447d-b115-cd15e23996ad",
   "metadata": {},
   "outputs": [
    {
     "name": "stdout",
     "output_type": "stream",
     "text": [
      "[3, 1, 4, 1, 5, 9, 2, 6, 5, 3, 5, 8, 9, 7, 9]\n",
      "[3, 1, 4, 1, 5, 9, 2, 6, 5, 3, 5, 8, 9, 7, 9]\n"
     ]
    }
   ],
   "source": [
    "#03.円周率\n",
    "import re\n",
    "\n",
    "Sentence = \"Now I need a drink, alcoholic of course, after the heavy lectures involving quantum mechanics.\"\n",
    "\n",
    "Splitted_Sentence = re.sub(\"[,.]\", \"\", Sentence).split(\" \")\n",
    "\n",
    "Pi = [len(i) for i in Splitted_Sentence]\n",
    "Pi2 = list(map(len, Splitted_Sentence))  # mapはリストの要素全てに操作を実行するコマンド\n",
    "\n",
    "print(Pi)\n",
    "print(Pi2)"
   ]
  },
  {
   "cell_type": "code",
   "execution_count": 55,
   "id": "c9581e07-acd1-4c2c-ba6b-d30f14ed1e5c",
   "metadata": {},
   "outputs": [
    {
     "name": "stdout",
     "output_type": "stream",
     "text": [
      "['Hi', 'He', 'Lied', 'Because', 'Boron', 'Could', 'Not', 'Oxidize', 'Fluorine', 'New', 'Nations', 'Might', 'Also', 'Sign', 'Peace', 'Security', 'Clause', 'Arthur', 'King', 'Can']\n",
      "{'H': 1, 'He': 2, 'Li': 3, 'Be': 4, 'B': 5, 'C': 6, 'N': 7, 'O': 8, 'F': 9, 'Ne': 10, 'Na': 11, 'Mg': 12, 'Al': 13, 'Si': 14, 'P': 15, 'S': 16, 'Cl': 17, 'Ar': 18, 'K': 19, 'Ca': 20}\n",
      "{'H': 1, 'He': 2, 'Li': 3, 'Be': 4, 'B': 5, 'C': 6, 'N': 7, 'O': 8, 'F': 9, 'Ne': 10, 'Na': 11, 'Mi': 12, 'Al': 13, 'Si': 14, 'P': 15, 'S': 16, 'Cl': 17, 'Ar': 18, 'K': 19, 'Ca': 20}\n"
     ]
    }
   ],
   "source": [
    "#04.元素記号\n",
    "\n",
    "Sentence2 = \"Hi He Lied Because Boron Could Not Oxidize Fluorine. New Nations Might Also Sign Peace Security Clause. Arthur King Can.\"\n",
    "\n",
    "Splitted_Sentence2 = re.sub(\"[.,]\", \"\", Sentence2).split(\" \")\n",
    "print(Splitted_Sentence2)\n",
    "\n",
    "one_indices = [1, 5, 6, 7, 8, 9, 15, 16, 19]  # set型\n",
    "order_map = {}  # dict型\n",
    "\n",
    "for i, item in enumerate(Sentence2.split()):\n",
    "    if i + 1 in one_indices:\n",
    "        order_map[item[0]] = i + 1\n",
    "    elif i + 1 == 12:\n",
    "        order_map[item[0] + item[2]] = i + 1\n",
    "    else:\n",
    "        order_map[item[:2]] = i + 1\n",
    "\n",
    "print(order_map)\n",
    "\n",
    "order_map = {item[0] if i + 1 in one_indices else item[:2] : i + 1 for i, item in enumerate(Sentence2.split())}\n",
    "print(order_map)"
   ]
  },
  {
   "cell_type": "code",
   "execution_count": 1,
   "id": "42ae264c-5b8e-4dc9-8ae3-49ff7b16b8b9",
   "metadata": {},
   "outputs": [
    {
     "name": "stdout",
     "output_type": "stream",
     "text": [
      "[['I', 'am'], ['am', 'an'], ['an', 'NLPer']]\n",
      "['Ia', 'am', 'ma', 'an', 'nN', 'NL', 'LP', 'Pe', 'er']\n",
      "[['I', 'am'], ['am', 'an'], ['an', 'NLPer']]\n",
      "['Ia', 'am', 'ma', 'an', 'nN', 'NL', 'LP', 'Pe', 'er']\n",
      "[('I', 'am'), ('am', 'an'), ('an', 'NLPer')]\n",
      "[('I', 'a'), ('a', 'm'), ('m', 'a'), ('a', 'n'), ('n', 'N'), ('N', 'L'), ('L', 'P'), ('P', 'e'), ('e', 'r')]\n"
     ]
    }
   ],
   "source": [
    "#05.n-gram\n",
    "\n",
    "import re\n",
    "\n",
    "def n_gram_maker(mode, data, n):\n",
    "    assert mode in {\"word\", \"char\"}  # assert以降がFalseの場合は処理が止まる\n",
    "    if mode == \"word\":\n",
    "        data = data.split()\n",
    "    else:  # 空白を含まなくて良いのならこのelse文を追加する\n",
    "        data = re.sub(\" \", \"\", data)\n",
    "    n_gram_list = [(data[i - n + 1:i + 1]) for i in range(n - 1, len(data))]\n",
    "    return n_gram_list\n",
    "\n",
    "data = \"I am an NLPer\"\n",
    "\n",
    "output = n_gram_maker(\"word\", data, 2)\n",
    "print(output)\n",
    "\n",
    "output = n_gram_maker(\"char\", data, 2)\n",
    "print(output)\n",
    "\n",
    "#リスト内包表記を使うやり方\n",
    "def n_gram_maker2(data, n):\n",
    "    return [data[i: i + n] for i in range(len(data) - n + 1)]\n",
    "\n",
    "data = \"I am an NLPer\"\n",
    "print(n_gram_maker2(data.split(), 2))\n",
    "print(n_gram_maker2(re.sub(\" \", \"\", data), 2))\n",
    "\n",
    "#ライブラリを使うやり方\n",
    "from toolz.itertoolz import sliding_window\n",
    "\n",
    "data = \"I am an NLPer\"\n",
    "print(list(sliding_window(2, data.split())))\n",
    "print(list(sliding_window(2, re.sub(\" \", \"\", data))))"
   ]
  },
  {
   "cell_type": "code",
   "execution_count": 8,
   "id": "1d3182d6-37e5-410e-b3a6-1a57a17ecf4d",
   "metadata": {},
   "outputs": [
    {
     "name": "stdout",
     "output_type": "stream",
     "text": [
      "和集合 {'ph', 'ag', 'gr', 'is', 'ap', 'di', 'se', 'ar', 'ra', 'pa', 'ad'}\n",
      "和集合 {'ph', 'ag', 'gr', 'is', 'ap', 'di', 'se', 'ar', 'ra', 'pa', 'ad'}\n",
      "和集合 {'ap', 'ar', 'ra', 'pa'}\n",
      "和集合 {'ap', 'ar', 'ra', 'pa'}\n",
      "差集合 {'is', 'se', 'di', 'ad'}\n",
      "差集合 {'is', 'se', 'di', 'ad'}\n",
      "'se' in X is True\n",
      "'se' in X is False\n"
     ]
    }
   ],
   "source": [
    "#06.集合\n",
    "\n",
    "data1 = \"paraparaparadise\"\n",
    "data2 = \"paragraph\"\n",
    "\n",
    "A = set(n_gram_maker(\"char\", data1, 2))\n",
    "B = set(n_gram_maker(\"char\", data2, 2))\n",
    "\n",
    "#和集合\n",
    "s_union = A | B\n",
    "print(\"和集合\", s_union)\n",
    "\n",
    "s_union = A.union(B)\n",
    "print(\"和集合\", s_union)\n",
    "\n",
    "#積集合\n",
    "s_intersection = A & B\n",
    "print(\"和集合\", s_intersection)\n",
    "\n",
    "s_union = A.intersection(B)\n",
    "print(\"和集合\", s_intersection)\n",
    "\n",
    "\n",
    "#差集合\n",
    "s_differ = A - B\n",
    "print(\"差集合\", s_differ)\n",
    "\n",
    "s_differ = A.difference(B)\n",
    "print(\"差集合\", s_differ)\n",
    "\n",
    "print(\"'se' in X is\", \"se\" in A)\n",
    "print(\"'se' in X is\", \"se\" in B)"
   ]
  },
  {
   "cell_type": "code",
   "execution_count": 9,
   "id": "b299f7b9-fafd-4250-b0f6-e09ade66b0e6",
   "metadata": {},
   "outputs": [
    {
     "name": "stdout",
     "output_type": "stream",
     "text": [
      "12時の気温は22.4\n",
      "12時の気温は22.4\n",
      "12時の気温は22.4\n"
     ]
    }
   ],
   "source": [
    "#07.テンプレートによる文生成\n",
    "\n",
    "x, y, z = 12, \"気温\", 22.4  # このような表記で複数の変数に一行で代入できます\n",
    "\n",
    "# format() で文字列に変数を挿入する\n",
    "def generate_sentence(x, y, z):\n",
    "    return '{}時の{}は{}'.format(x, y, z)\n",
    "\n",
    "print(generate_sentence(x, y, z))\n",
    "\n",
    "# 置換フィールド (各挿入欄) に名前を付け，挿入時に引数として指定することもできる\n",
    "def generate_sentence2(x, y, z):\n",
    "    return '{x}時の{y}は{z}'.format(x=12, y=\"気温\", z=22.4)\n",
    "    \n",
    "print(generate_sentence2(x, y, z))\n",
    "\n",
    "# 文字列の前に f を置くことで中括弧内にそのまま指定することもできる （→「f文字列（フォーマット文字列）」）\n",
    "def generate_sentence3(x, y, z):\n",
    "    return f'{x}時の{y}は{z}'\n",
    "\n",
    "print(generate_sentence3(x, y, z))"
   ]
  },
  {
   "cell_type": "code",
   "execution_count": 10,
   "id": "5ddd848a-05b7-48e9-8f47-a2cf6c9a7145",
   "metadata": {},
   "outputs": [
    {
     "name": "stdout",
     "output_type": "stream",
     "text": [
      "I zn zm NLPvi\n",
      "I zn zm NLPvi\n"
     ]
    }
   ],
   "source": [
    "#08.暗号文\n",
    "\n",
    "def cipher(data):\n",
    "    output = \"\"\n",
    "    for item in data:\n",
    "        x = ord(item)  # ord()はstr型を文字コードの数字に変える\n",
    "        if 97 <= x <= 122:\n",
    "            item = chr(219 - x)  # chr() は文字コードの数字(int)を文字(str)に変える\n",
    "        output += item\n",
    "    return output\n",
    "\n",
    "#内包表記を使うやり方\n",
    "def cipher2(data):\n",
    "    return \"\".join([chr(219 - ord(x)) if x.islower() else x for x in data])\n",
    "\n",
    "data = \"I am an NLPer\"\n",
    "print(cipher(data))\n",
    "print(cipher2(data))"
   ]
  },
  {
   "cell_type": "code",
   "execution_count": 12,
   "id": "490f8e78-3320-4473-911f-c0245ab7f647",
   "metadata": {},
   "outputs": [
    {
     "name": "stdout",
     "output_type": "stream",
     "text": [
      "I couldn't believe that I could actually understand what I was reading : the phenomenal power of the human mind .\n",
      "I c'odunlt bleevie that I cluod altucaly uestrdnand what I was rinaedg : the pnhaoneeml pweor of the hamun mind .\n",
      "I c'dlnuot beveile that I culod aulltcay uestannrdd what I was rdeiang : the pnmneahoel poewr of the haumn mind .\n"
     ]
    }
   ],
   "source": [
    "#09.Typoglycemia\n",
    "\n",
    "import random\n",
    "\n",
    "# random.sample()を使う方法\n",
    "# random.sample(対象, k)は、重複を許さずに対象データからk個の要素をランダムに抽出したリストを返す。\n",
    "def typofy(data):\n",
    "    output = []\n",
    "    for item in data.split():\n",
    "        if len(item) <= 4:\n",
    "            output.append(item)\n",
    "        else:\n",
    "            mid = item[1:-1]\n",
    "            mid_shuf = random.sample(mid, k = len(mid))\n",
    "            output.append(item[0] + \"\".join(mid_shuf) + item[-1])\n",
    "    return \" \".join(output)\n",
    "\n",
    "\n",
    "# random.shuffle()を使う方法\n",
    "# random.shuffle()はリストを受け取って、その要素をランダムに並べ替える(渡したリストそのものを上書き)\n",
    "def typofy2(data):\n",
    "    output = []\n",
    "    for item in data.split():\n",
    "        if len(item) <= 4:\n",
    "            output.append(item)\n",
    "        else:\n",
    "            mid = list(item[1:-1])\n",
    "            random.shuffle(mid)\n",
    "            output.append(item[0] + \"\".join(mid) + item[-1])\n",
    "    return \" \".join(output)\n",
    "\n",
    "data = \"I couldn't believe that I could actually understand what I was reading : the phenomenal power of the human mind .\"\n",
    "\n",
    "print(data)\n",
    "print(typofy(data))\n",
    "print(typofy2(data))"
   ]
  },
  {
   "cell_type": "code",
   "execution_count": null,
   "id": "01c409a5-ac0b-4d59-8f5c-f957bd053062",
   "metadata": {},
   "outputs": [],
   "source": []
  }
 ],
 "metadata": {
  "kernelspec": {
   "display_name": "Python 3",
   "language": "python",
   "name": "python3"
  },
  "language_info": {
   "codemirror_mode": {
    "name": "ipython",
    "version": 3
   },
   "file_extension": ".py",
   "mimetype": "text/x-python",
   "name": "python",
   "nbconvert_exporter": "python",
   "pygments_lexer": "ipython3",
   "version": "3.8.8"
  }
 },
 "nbformat": 4,
 "nbformat_minor": 5
}
