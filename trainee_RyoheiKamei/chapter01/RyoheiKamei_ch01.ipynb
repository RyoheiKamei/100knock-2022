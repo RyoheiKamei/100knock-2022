{
 "cells": [
  {
   "cell_type": "code",
   "execution_count": 1,
   "id": "d50bd6a5-4255-4d0e-ae47-cfe8460441cd",
   "metadata": {},
   "outputs": [
    {
     "name": "stdout",
     "output_type": "stream",
     "text": [
      "desserts\n"
     ]
    }
   ],
   "source": [
    "#00.文字列の逆順\n",
    "str = \"stressed\"\n",
    "print(str[::-1])    #スライスは[start:end:step]の形で範囲や増分を指定する。\n",
    "                  #start, stopを省略すると全体を選択し、\n",
    "                  #stepを-1とすると後ろから一つずつ要素を取得する"
   ]
  },
  {
   "cell_type": "code",
   "execution_count": 2,
   "id": "979f1b0c-d6ec-4b9d-9a19-040ddfd192aa",
   "metadata": {},
   "outputs": [
    {
     "name": "stdout",
     "output_type": "stream",
     "text": [
      "['パ', 'ト', 'カ', 'ー']\n"
     ]
    }
   ],
   "source": [
    "#01.「パタトクカシーー」\n",
    "str = \"パタトクカシーー\"\n",
    "str1 = []\n",
    "for i in range(len(str)):\n",
    "    if i % 2 == 0:\n",
    "        str1.append(str[i])\n",
    "\n",
    "print(str1)"
   ]
  },
  {
   "cell_type": "code",
   "execution_count": 3,
   "id": "f94220ab-7d3b-4245-845e-211e81786c11",
   "metadata": {},
   "outputs": [
    {
     "name": "stdout",
     "output_type": "stream",
     "text": [
      "['パ', 'タ', 'ト', 'ク', 'カ', 'シ', 'ー', 'ー']\n"
     ]
    }
   ],
   "source": [
    "#02.「パトカー」＋「タクシー」＝「パタトクカシーー」\n",
    "str1 = \"パトカー\"\n",
    "str2 = \"タクシー\"\n",
    "str3 = []\n",
    "for i in range(len(str1)):\n",
    "    str3.append(str1[i])\n",
    "    str3.append(str2[i])\n",
    "\n",
    "print(str3)"
   ]
  },
  {
   "cell_type": "code",
   "execution_count": 4,
   "id": "3aef3c06-fdc2-46ac-9deb-3146ee92ee19",
   "metadata": {},
   "outputs": [
    {
     "name": "stdout",
     "output_type": "stream",
     "text": [
      "[3, 1, 4, 1, 5, 9, 2, 6, 5, 3, 5, 8, 9, 7, 9]\n",
      "[3, 1, 4, 1, 5, 9, 2, 6, 5, 3, 5, 8, 9, 7, 9]\n"
     ]
    }
   ],
   "source": [
    "#03.円周率\n",
    "import re\n",
    "str = \"Now I need a drink, alcoholic of course, after the heavy lectures involving quantum mechanics.\"\n",
    "strlist = re.split(\"[ ]\", str)  #空白で分割してリスト化\n",
    "\n",
    "NewStr = []\n",
    "for i in range(len(strlist)):\n",
    "    NewStr.append(strlist[i].rstrip(\"[,.]\"))    #コンマとピリオドを文末から除去してリスト化\n",
    "\n",
    "pi = []\n",
    "for i in range(len(NewStr)):\n",
    "    pi.append(len(NewStr[i]))   #各単語の文字数をリストにする\n",
    "print(pi)\n",
    "\n",
    "#----------------以下関数化\n",
    "\n",
    "def WordCounter(str):\n",
    "    str1 = re.split(\"[ ]\", str)\n",
    "    NewStr = []\n",
    "    WordCount = []\n",
    "\n",
    "    for i in range(len(str1)):\n",
    "        NewStr.append(str1[i].rstrip(\"[,.]\"))    \n",
    "    for i in range(len(NewStr)):\n",
    "        WordCount.append(len(NewStr[i]))\n",
    "    return WordCount\n",
    "\n",
    "pi2 = WordCounter(str)\n",
    "print(pi2)"
   ]
  },
  {
   "cell_type": "code",
   "execution_count": 5,
   "id": "49b65392-7bbf-418c-9b69-f5e8d0a13882",
   "metadata": {},
   "outputs": [
    {
     "name": "stdout",
     "output_type": "stream",
     "text": [
      "['H', 'He', 'Li', 'Be', 'B', 'C', 'N', 'O', 'F', 'Ne', 'Na', 'Mg', 'Al', 'Si', 'P', 'S', 'Cl', 'Ar', 'K', 'Ca']\n"
     ]
    }
   ],
   "source": [
    "#04.元素記号\n",
    "str = \"Hi He Lied Because Boron Could Not Oxidize Fluorine. New Nations Might Also Sign Peace Security Clause. Arthur King Can.\"\n",
    "def WordSplit(str):\n",
    "    str1 = re.split(\"[ ]\", str)\n",
    "    NewStr = []\n",
    "\n",
    "    for i in range(len(str1)):\n",
    "        NewStr.append(str1[i].rstrip(\"[,.]\"))    \n",
    "\n",
    "    return NewStr\n",
    "\n",
    "str1 = WordSplit(str)\n",
    "\n",
    "First = [1, 5, 6, 7, 8, 9, 15, 16, 19]\n",
    "Genso =[]\n",
    "for i in range(len(str1)):\n",
    "    if i + 1 in First:\n",
    "        Genso.append(str1[i][0])\n",
    "    elif i + 1 == 12:\n",
    "        Genso.append(str1[i][0:3:2])\n",
    "    else:\n",
    "        Genso.append(str1[i][0:2])\n",
    "print(Genso)"
   ]
  },
  {
   "cell_type": "code",
   "execution_count": 7,
   "id": "25a0bec1-9f20-4af8-ae61-a9c3a57d74ad",
   "metadata": {},
   "outputs": [
    {
     "name": "stdout",
     "output_type": "stream",
     "text": [
      "[['I', 'am'], ['am', 'an'], ['an', 'NLPer']]\n",
      "[['I', 'am', 'an'], ['am', 'an', 'NLPer']]\n",
      "[['I', 'a'], ['a', 'm'], ['m', 'a'], ['a', 'n'], ['n', 'N'], ['N', 'L'], ['L', 'P'], ['P', 'e'], ['e', 'r']]\n",
      "[['I', 'a', 'm'], ['a', 'm', 'a'], ['m', 'a', 'n'], ['a', 'n', 'N'], ['n', 'N', 'L'], ['N', 'L', 'P'], ['L', 'P', 'e'], ['P', 'e', 'r']]\n"
     ]
    }
   ],
   "source": [
    "#05.n-gram\n",
    "import re\n",
    "def WordSplit(str):\n",
    "    str1 = re.split(\"[ ]\", str)\n",
    "    NewStr = []\n",
    "\n",
    "    for i in range(len(str1)):\n",
    "        NewStr.append(str1[i].rstrip(\"[,.]\"))    \n",
    "\n",
    "    return NewStr\n",
    "\n",
    "def LetterSplit(str):\n",
    "    str1 = re.split(\"[ ]\", str)\n",
    "    NewStr = []\n",
    "    Letter = []\n",
    "    for i in range(len(str1)):\n",
    "        NewStr.append(str1[i].rstrip(\"[,.]\"))\n",
    "\n",
    "    for i in range(len(NewStr)):\n",
    "        for j in range(len(NewStr[i])):\n",
    "            Letter.append(NewStr[i][j])\n",
    "    return Letter\n",
    "\n",
    "def N_gram_word(str, n):    #単語n-gram\n",
    "    str1 = WordSplit(str)\n",
    "    n_gram = []\n",
    "    n_gram_list = []\n",
    "    for i in range(len(str1) - n + 1):\n",
    "        for j in range(n):\n",
    "            n_gram.append(str1[i + j])   \n",
    "        n_gram_list.append(n_gram)\n",
    "        n_gram = []\n",
    "    return n_gram_list\n",
    "\n",
    "def N_gram_Letter(str, n):\n",
    "    str1 = LetterSplit(str)\n",
    "    n_gram = []\n",
    "    n_gram_list = []\n",
    "    for i in range(len(str1) - n + 1):\n",
    "        for j in range(n):\n",
    "            n_gram.append(str1[i + j])   \n",
    "        n_gram_list.append(n_gram)\n",
    "        n_gram = []\n",
    "    return n_gram_list\n",
    "\n",
    "str = \"I am an NLPer\"\n",
    "\n",
    "WordBiGram = N_gram_word(str, 2)\n",
    "WordTriGram = N_gram_word(str, 3)\n",
    "\n",
    "LetterBiGram = N_gram_Letter(str, 2)\n",
    "LetterTriGram = N_gram_Letter(str, 3)\n",
    "\n",
    "print(WordBiGram)\n",
    "print(WordTriGram)\n",
    "\n",
    "print(LetterBiGram)\n",
    "print(LetterTriGram)"
   ]
  },
  {
   "cell_type": "code",
   "execution_count": 8,
   "id": "33c1f1b9-69e6-4923-8ddc-5af120fd5374",
   "metadata": {},
   "outputs": [
    {
     "name": "stdout",
     "output_type": "stream",
     "text": [
      "[['p', 'a'], ['a', 'r'], ['r', 'a'], ['a', 'p'], ['p', 'a'], ['a', 'r'], ['r', 'a'], ['a', 'p'], ['p', 'a'], ['a', 'r'], ['r', 'a'], ['a', 'd'], ['d', 'i'], ['i', 's'], ['s', 'e']]\n",
      "[['p', 'a'], ['a', 'r'], ['r', 'a'], ['a', 'g'], ['g', 'r'], ['r', 'a'], ['a', 'p'], ['p', 'h']]\n",
      "Union = [['p', 'a'], ['a', 'r'], ['r', 'a'], ['a', 'p'], ['a', 'd'], ['d', 'i'], ['i', 's'], ['s', 'e'], ['a', 'g'], ['g', 'r'], ['p', 'h']]\n",
      "Intersection = [['p', 'a'], ['a', 'r'], ['r', 'a'], ['a', 'p']]\n",
      "Difference1minus2 = [['a', 'd'], ['d', 'i'], ['i', 's'], ['s', 'e']]\n",
      "Difference2minus1 = [['a', 'g'], ['g', 'r'], ['p', 'h']]\n"
     ]
    }
   ],
   "source": [
    "#06.集合\n",
    "import re\n",
    "\n",
    "def LetterSplit(str):\n",
    "    str1 = re.split(\"[ ]\", str)\n",
    "    NewStr = []\n",
    "    Letter = []\n",
    "    for i in range(len(str1)):\n",
    "        NewStr.append(str1[i].rstrip(\"[,.]\"))\n",
    "\n",
    "    for i in range(len(NewStr)):\n",
    "        for j in range(len(NewStr[i])):\n",
    "            Letter.append(NewStr[i][j])\n",
    "    return Letter\n",
    "\n",
    "def N_gram_Letter(str, n):\n",
    "    str1 = LetterSplit(str)\n",
    "    n_gram = []\n",
    "    n_gram_list = []\n",
    "    for i in range(len(str1) - n + 1):\n",
    "        for j in range(n):\n",
    "            n_gram.append(str1[i + j])   \n",
    "        n_gram_list.append(n_gram)\n",
    "        n_gram = []\n",
    "    return n_gram_list\n",
    "\n",
    "str1 = \"paraparaparadise\"\n",
    "str2 = \"paragraph\"\n",
    "\n",
    "BiGram1 = N_gram_Letter(str1, 2)\n",
    "BiGram2 = N_gram_Letter(str2, 2)\n",
    "\n",
    "print(BiGram1)\n",
    "print(BiGram2)\n",
    "\n",
    "def get_unique_list(seq):\n",
    "    seen = []\n",
    "    return [x for x in seq if x not in seen and not seen.append(x)]\n",
    "\n",
    "Union = get_unique_list(BiGram1 + BiGram2)\n",
    "\n",
    "\n",
    "Intersection = []\n",
    "for i in BiGram1:\n",
    "    for j in BiGram2:\n",
    "        if i == j:\n",
    "            Intersection.append(i)\n",
    "Intersection = get_unique_list(Intersection)\n",
    "\n",
    "Difference1minus2 = []\n",
    "for i in BiGram1:\n",
    "    if i in BiGram2:\n",
    "        continue           \n",
    "    else:\n",
    "        Difference1minus2.append(i)\n",
    "Difference1minus2 = get_unique_list(Difference1minus2)\n",
    "\n",
    "Difference2minus1 = []\n",
    "for i in BiGram2:\n",
    "    if i in BiGram1:\n",
    "        continue           \n",
    "    else:\n",
    "        Difference2minus1.append(i)\n",
    "Difference2minus1 = get_unique_list(Difference2minus1)\n",
    "\n",
    "\n",
    "# BiGramSet1 = set(BiGram1)\n",
    "# BiGramSet2 = set(BiGram2)\n",
    "\n",
    "# Union = BiGramSet1.union(BiGramSet2)\n",
    "# Intersection = BiGramSet1.intersection(BiGramSet2)\n",
    "# Difference = BiGramSet1.diffrence(BiGramSet2)\n",
    "\n",
    "print(\"Union = {}\".format(Union))\n",
    "print(\"Intersection = {}\".format(Intersection))\n",
    "print(\"Difference1minus2 = {}\".format(Difference1minus2))\n",
    "print(\"Difference2minus1 = {}\".format(Difference2minus1))"
   ]
  },
  {
   "cell_type": "code",
   "execution_count": 9,
   "id": "bc9b76cc-a4e7-4d18-a2a3-6f72c41407d6",
   "metadata": {},
   "outputs": [
    {
     "name": "stdout",
     "output_type": "stream",
     "text": [
      "12時の気温は22.4\n"
     ]
    }
   ],
   "source": [
    "#07.テンプレートによる文生成\n",
    "def MakeStr(x, y, z):\n",
    "    print(\"{}時の{}は{}\".format(x, y, z))\n",
    "\n",
    "x = 12\n",
    "y = \"気温\"\n",
    "z = 22.4\n",
    "MakeStr(x, y, z)"
   ]
  },
  {
   "cell_type": "code",
   "execution_count": 10,
   "id": "689e664f-122e-47b4-98fb-48b4cc457d5a",
   "metadata": {},
   "outputs": [
    {
     "name": "stdout",
     "output_type": "stream",
     "text": [
      "学籍番号y9gy2070\n"
     ]
    }
   ],
   "source": [
    "#08.暗号文\n",
    "def cipher(str):\n",
    "    Script = []\n",
    "    for i in str:\n",
    "        if i.isalpha() & i.islower():\n",
    "            j = chr(219 - ord(i))\n",
    "            Script.append(j)\n",
    "        else:\n",
    "            Script.append(i)\n",
    "    return Script\n",
    "\n",
    "str = \"学籍番号b9tb2070\"\n",
    "str1 = cipher(str)\n",
    "print(\"\".join(str1))"
   ]
  },
  {
   "cell_type": "code",
   "execution_count": 11,
   "id": "4bce1d1f-1bb0-4ce0-b1a8-a1a3b588b6e0",
   "metadata": {},
   "outputs": [
    {
     "name": "stdout",
     "output_type": "stream",
     "text": [
      "I condl'ut beievle that I cuold acalutly uetdnnsard what I was reinadg : the peoneamnhl pwoer of the huamn mind \n"
     ]
    }
   ],
   "source": [
    "#09.Typoglycemia\n",
    "import re\n",
    "import random\n",
    "\n",
    "def WordSplit(str):\n",
    "    str1 = re.split(\"[ ]\", str)\n",
    "    NewStr = []\n",
    "\n",
    "    for i in range(len(str1)):\n",
    "        NewStr.append(str1[i].rstrip(\"[,.]\"))    \n",
    "\n",
    "    return NewStr\n",
    "\n",
    "def Typoglycemia(str):\n",
    "    str1 = WordSplit(str)\n",
    "    str2 = []\n",
    "    for i in str1:\n",
    "        Random = []\n",
    "        Typo = []\n",
    "        if len(i) > 4:\n",
    "            for j in range(len(i) - 1):\n",
    "                if j == 0:\n",
    "                    Typo.append(i[j])\n",
    "                else:\n",
    "                    Random.append(i[j])\n",
    "                    #print(Random)\n",
    "            random.shuffle(Random)\n",
    "            #print(Random)\n",
    "            Typo.append(\"\".join(Random))\n",
    "            Typo.append(i[-1])\n",
    "            str2.append(\"\".join(Typo))\n",
    "        else:\n",
    "            str2.append(i)\n",
    "\n",
    "    return \" \".join(str2)\n",
    "\n",
    "str = \"I couldn't believe that I could actually understand what I was reading : the phenomenal power of the human mind .\"\n",
    "str2 = Typoglycemia(str)\n",
    "print(str2)"
   ]
  },
  {
   "cell_type": "code",
   "execution_count": null,
   "id": "14a43c92-4d54-4438-8ac0-be441f08ec1c",
   "metadata": {},
   "outputs": [],
   "source": []
  }
 ],
 "metadata": {
  "kernelspec": {
   "display_name": "Python 3",
   "language": "python",
   "name": "python3"
  },
  "language_info": {
   "codemirror_mode": {
    "name": "ipython",
    "version": 3
   },
   "file_extension": ".py",
   "mimetype": "text/x-python",
   "name": "python",
   "nbconvert_exporter": "python",
   "pygments_lexer": "ipython3",
   "version": "3.8.8"
  }
 },
 "nbformat": 4,
 "nbformat_minor": 5
}
