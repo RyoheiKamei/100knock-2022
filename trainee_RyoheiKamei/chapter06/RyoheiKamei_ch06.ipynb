{
 "cells": [
  {
   "cell_type": "code",
   "execution_count": 2,
   "id": "8fecf39b-3c5f-48d7-bf3e-38c483e2b194",
   "metadata": {},
   "outputs": [],
   "source": [
    "#第5章準備(ファイルの解答).実行は一度で良い.\n",
    "\n",
    "import zipfile\n",
    "\n",
    "# zipファイルに含まれているファイルの取り出し\n",
    "with zipfile.ZipFile(\"./data/NewsAggregatorDataset.zip\") as myzip:\n",
    "    myzip.extractall(\"./data\")\n"
   ]
  },
  {
   "cell_type": "markdown",
   "id": "3c6ddcfe-27f7-4b65-887e-fd4737977c62",
   "metadata": {},
   "source": [
    "## #50. データの入手・整形"
   ]
  },
  {
   "cell_type": "code",
   "execution_count": 24,
   "id": "7502c07f-9d08-4f3a-badb-a16a8f9fe3ec",
   "metadata": {},
   "outputs": [],
   "source": [
    "import pandas as pd\n",
    "\n",
    "csv_input = pd.read_table(filepath_or_buffer=\"./data/newsCorpora.csv\",\n",
    "                          header=None,\n",
    "                          sep=\"\\\\t\",\n",
    "                          names=[\"ID\", \"TITLE\", \"URL\", \"PUBLISHER\", \"CATEGORY\", \"STORY\", \"HOSTNAME\", \"TIMESTAMP\"],\n",
    "                          engine=\"python\")"
   ]
  },
  {
   "cell_type": "code",
   "execution_count": 25,
   "id": "f7a6eb49-b07c-4fcf-822c-7887f8f12896",
   "metadata": {},
   "outputs": [],
   "source": [
    "csv_input = csv_input[csv_input[\"PUBLISHER\"].isin([\"Reuters\", \"Huffington Post\", \"Businessweek\", \"Contactmusic.com\", \"Daily Mail\"])]"
   ]
  },
  {
   "cell_type": "code",
   "execution_count": 26,
   "id": "d8080bf9-8a5e-4e59-9a58-113838ba7ffc",
   "metadata": {},
   "outputs": [
    {
     "data": {
      "text/html": [
       "<div>\n",
       "<style scoped>\n",
       "    .dataframe tbody tr th:only-of-type {\n",
       "        vertical-align: middle;\n",
       "    }\n",
       "\n",
       "    .dataframe tbody tr th {\n",
       "        vertical-align: top;\n",
       "    }\n",
       "\n",
       "    .dataframe thead th {\n",
       "        text-align: right;\n",
       "    }\n",
       "</style>\n",
       "<table border=\"1\" class=\"dataframe\">\n",
       "  <thead>\n",
       "    <tr style=\"text-align: right;\">\n",
       "      <th></th>\n",
       "      <th>ID</th>\n",
       "      <th>TITLE</th>\n",
       "      <th>URL</th>\n",
       "      <th>PUBLISHER</th>\n",
       "      <th>CATEGORY</th>\n",
       "      <th>STORY</th>\n",
       "      <th>HOSTNAME</th>\n",
       "      <th>TIMESTAMP</th>\n",
       "    </tr>\n",
       "  </thead>\n",
       "  <tbody>\n",
       "    <tr>\n",
       "      <th>12</th>\n",
       "      <td>13</td>\n",
       "      <td>Europe reaches crunch point on banking union</td>\n",
       "      <td>http://in.reuters.com/article/2014/03/10/eu-ba...</td>\n",
       "      <td>Reuters</td>\n",
       "      <td>b</td>\n",
       "      <td>dPhGU51DcrolUIMxbRm0InaHGA2XM</td>\n",
       "      <td>in.reuters.com</td>\n",
       "      <td>1394470501755</td>\n",
       "    </tr>\n",
       "    <tr>\n",
       "      <th>13</th>\n",
       "      <td>14</td>\n",
       "      <td>ECB FOCUS-Stronger euro drowns out ECB's messa...</td>\n",
       "      <td>http://in.reuters.com/article/2014/03/10/ecb-p...</td>\n",
       "      <td>Reuters</td>\n",
       "      <td>b</td>\n",
       "      <td>dPhGU51DcrolUIMxbRm0InaHGA2XM</td>\n",
       "      <td>in.reuters.com</td>\n",
       "      <td>1394470501948</td>\n",
       "    </tr>\n",
       "    <tr>\n",
       "      <th>19</th>\n",
       "      <td>20</td>\n",
       "      <td>Euro Anxieties Wane as Bunds Top Treasuries, S...</td>\n",
       "      <td>http://www.businessweek.com/news/2014-03-10/ge...</td>\n",
       "      <td>Businessweek</td>\n",
       "      <td>b</td>\n",
       "      <td>dPhGU51DcrolUIMxbRm0InaHGA2XM</td>\n",
       "      <td>www.businessweek.com</td>\n",
       "      <td>1394470503148</td>\n",
       "    </tr>\n",
       "    <tr>\n",
       "      <th>20</th>\n",
       "      <td>21</td>\n",
       "      <td>Noyer Says Strong Euro Creates Unwarranted Eco...</td>\n",
       "      <td>http://www.businessweek.com/news/2014-03-10/no...</td>\n",
       "      <td>Businessweek</td>\n",
       "      <td>b</td>\n",
       "      <td>dPhGU51DcrolUIMxbRm0InaHGA2XM</td>\n",
       "      <td>www.businessweek.com</td>\n",
       "      <td>1394470503366</td>\n",
       "    </tr>\n",
       "    <tr>\n",
       "      <th>29</th>\n",
       "      <td>30</td>\n",
       "      <td>REFILE-Bad loan triggers key feature in ECB ba...</td>\n",
       "      <td>http://in.reuters.com/article/2014/03/10/euroz...</td>\n",
       "      <td>Reuters</td>\n",
       "      <td>b</td>\n",
       "      <td>dPhGU51DcrolUIMxbRm0InaHGA2XM</td>\n",
       "      <td>in.reuters.com</td>\n",
       "      <td>1394470505070</td>\n",
       "    </tr>\n",
       "    <tr>\n",
       "      <th>...</th>\n",
       "      <td>...</td>\n",
       "      <td>...</td>\n",
       "      <td>...</td>\n",
       "      <td>...</td>\n",
       "      <td>...</td>\n",
       "      <td>...</td>\n",
       "      <td>...</td>\n",
       "      <td>...</td>\n",
       "    </tr>\n",
       "    <tr>\n",
       "      <th>422818</th>\n",
       "      <td>422819</td>\n",
       "      <td>UN: Ebola Could Eventually Infect 20000 People</td>\n",
       "      <td>http://www.huffingtonpost.com/2014/08/28/ebola...</td>\n",
       "      <td>Huffington Post</td>\n",
       "      <td>m</td>\n",
       "      <td>dhhnSHVoyA7ENBM3boDX_D_-3PV6M</td>\n",
       "      <td>www.huffingtonpost.com</td>\n",
       "      <td>1409228423333</td>\n",
       "    </tr>\n",
       "    <tr>\n",
       "      <th>422819</th>\n",
       "      <td>422820</td>\n",
       "      <td>Ebola toll tops 1550, continues to accelerate ...</td>\n",
       "      <td>http://in.reuters.com/article/2014/08/28/healt...</td>\n",
       "      <td>Reuters</td>\n",
       "      <td>m</td>\n",
       "      <td>dhhnSHVoyA7ENBM3boDX_D_-3PV6M</td>\n",
       "      <td>in.reuters.com</td>\n",
       "      <td>1409228423827</td>\n",
       "    </tr>\n",
       "    <tr>\n",
       "      <th>422820</th>\n",
       "      <td>422821</td>\n",
       "      <td>UPDATE 1-Ebola toll tops 1550, outbreak accele...</td>\n",
       "      <td>http://in.reuters.com/article/2014/08/28/healt...</td>\n",
       "      <td>Reuters</td>\n",
       "      <td>m</td>\n",
       "      <td>dhhnSHVoyA7ENBM3boDX_D_-3PV6M</td>\n",
       "      <td>in.reuters.com</td>\n",
       "      <td>1409228424525</td>\n",
       "    </tr>\n",
       "    <tr>\n",
       "      <th>422827</th>\n",
       "      <td>422828</td>\n",
       "      <td>Ebola Cases May Surpass 20000, WHO Says in Upd...</td>\n",
       "      <td>http://www.businessweek.com/news/2014-08-28/eb...</td>\n",
       "      <td>Businessweek</td>\n",
       "      <td>m</td>\n",
       "      <td>dhhnSHVoyA7ENBM3boDX_D_-3PV6M</td>\n",
       "      <td>www.businessweek.com</td>\n",
       "      <td>1409228426943</td>\n",
       "    </tr>\n",
       "    <tr>\n",
       "      <th>422837</th>\n",
       "      <td>422838</td>\n",
       "      <td>Air France suspends flights to Ebola-hit Sierr...</td>\n",
       "      <td>http://www.dailymail.co.uk/travel/travel_news/...</td>\n",
       "      <td>Daily Mail</td>\n",
       "      <td>m</td>\n",
       "      <td>dhhnSHVoyA7ENBM3boDX_D_-3PV6M</td>\n",
       "      <td>www.dailymail.co.uk</td>\n",
       "      <td>1409228430383</td>\n",
       "    </tr>\n",
       "  </tbody>\n",
       "</table>\n",
       "<p>13356 rows × 8 columns</p>\n",
       "</div>"
      ],
      "text/plain": [
       "            ID                                              TITLE  \\\n",
       "12          13       Europe reaches crunch point on banking union   \n",
       "13          14  ECB FOCUS-Stronger euro drowns out ECB's messa...   \n",
       "19          20  Euro Anxieties Wane as Bunds Top Treasuries, S...   \n",
       "20          21  Noyer Says Strong Euro Creates Unwarranted Eco...   \n",
       "29          30  REFILE-Bad loan triggers key feature in ECB ba...   \n",
       "...        ...                                                ...   \n",
       "422818  422819     UN: Ebola Could Eventually Infect 20000 People   \n",
       "422819  422820  Ebola toll tops 1550, continues to accelerate ...   \n",
       "422820  422821  UPDATE 1-Ebola toll tops 1550, outbreak accele...   \n",
       "422827  422828  Ebola Cases May Surpass 20000, WHO Says in Upd...   \n",
       "422837  422838  Air France suspends flights to Ebola-hit Sierr...   \n",
       "\n",
       "                                                      URL        PUBLISHER  \\\n",
       "12      http://in.reuters.com/article/2014/03/10/eu-ba...          Reuters   \n",
       "13      http://in.reuters.com/article/2014/03/10/ecb-p...          Reuters   \n",
       "19      http://www.businessweek.com/news/2014-03-10/ge...     Businessweek   \n",
       "20      http://www.businessweek.com/news/2014-03-10/no...     Businessweek   \n",
       "29      http://in.reuters.com/article/2014/03/10/euroz...          Reuters   \n",
       "...                                                   ...              ...   \n",
       "422818  http://www.huffingtonpost.com/2014/08/28/ebola...  Huffington Post   \n",
       "422819  http://in.reuters.com/article/2014/08/28/healt...          Reuters   \n",
       "422820  http://in.reuters.com/article/2014/08/28/healt...          Reuters   \n",
       "422827  http://www.businessweek.com/news/2014-08-28/eb...     Businessweek   \n",
       "422837  http://www.dailymail.co.uk/travel/travel_news/...       Daily Mail   \n",
       "\n",
       "       CATEGORY                          STORY                HOSTNAME  \\\n",
       "12            b  dPhGU51DcrolUIMxbRm0InaHGA2XM          in.reuters.com   \n",
       "13            b  dPhGU51DcrolUIMxbRm0InaHGA2XM          in.reuters.com   \n",
       "19            b  dPhGU51DcrolUIMxbRm0InaHGA2XM    www.businessweek.com   \n",
       "20            b  dPhGU51DcrolUIMxbRm0InaHGA2XM    www.businessweek.com   \n",
       "29            b  dPhGU51DcrolUIMxbRm0InaHGA2XM          in.reuters.com   \n",
       "...         ...                            ...                     ...   \n",
       "422818        m  dhhnSHVoyA7ENBM3boDX_D_-3PV6M  www.huffingtonpost.com   \n",
       "422819        m  dhhnSHVoyA7ENBM3boDX_D_-3PV6M          in.reuters.com   \n",
       "422820        m  dhhnSHVoyA7ENBM3boDX_D_-3PV6M          in.reuters.com   \n",
       "422827        m  dhhnSHVoyA7ENBM3boDX_D_-3PV6M    www.businessweek.com   \n",
       "422837        m  dhhnSHVoyA7ENBM3boDX_D_-3PV6M     www.dailymail.co.uk   \n",
       "\n",
       "            TIMESTAMP  \n",
       "12      1394470501755  \n",
       "13      1394470501948  \n",
       "19      1394470503148  \n",
       "20      1394470503366  \n",
       "29      1394470505070  \n",
       "...               ...  \n",
       "422818  1409228423333  \n",
       "422819  1409228423827  \n",
       "422820  1409228424525  \n",
       "422827  1409228426943  \n",
       "422837  1409228430383  \n",
       "\n",
       "[13356 rows x 8 columns]"
      ]
     },
     "execution_count": 26,
     "metadata": {},
     "output_type": "execute_result"
    }
   ],
   "source": [
    "csv_input"
   ]
  },
  {
   "cell_type": "code",
   "execution_count": 27,
   "id": "dc31b8d7-f9c9-45c8-b608-e0be6a05561e",
   "metadata": {},
   "outputs": [
    {
     "data": {
      "text/html": [
       "<div>\n",
       "<style scoped>\n",
       "    .dataframe tbody tr th:only-of-type {\n",
       "        vertical-align: middle;\n",
       "    }\n",
       "\n",
       "    .dataframe tbody tr th {\n",
       "        vertical-align: top;\n",
       "    }\n",
       "\n",
       "    .dataframe thead th {\n",
       "        text-align: right;\n",
       "    }\n",
       "</style>\n",
       "<table border=\"1\" class=\"dataframe\">\n",
       "  <thead>\n",
       "    <tr style=\"text-align: right;\">\n",
       "      <th></th>\n",
       "      <th>ID</th>\n",
       "      <th>TITLE</th>\n",
       "      <th>URL</th>\n",
       "      <th>PUBLISHER</th>\n",
       "      <th>CATEGORY</th>\n",
       "      <th>STORY</th>\n",
       "      <th>HOSTNAME</th>\n",
       "      <th>TIMESTAMP</th>\n",
       "    </tr>\n",
       "  </thead>\n",
       "  <tbody>\n",
       "    <tr>\n",
       "      <th>354846</th>\n",
       "      <td>354847</td>\n",
       "      <td>Ashley Olsen wanders around New York alone... ...</td>\n",
       "      <td>http://www.dailymail.co.uk/tvshowbiz/article-2...</td>\n",
       "      <td>Daily Mail</td>\n",
       "      <td>e</td>\n",
       "      <td>dPSNq-ryU61MAnM_8crG98Jbbpm7M</td>\n",
       "      <td>www.dailymail.co.uk</td>\n",
       "      <td>1404464983854</td>\n",
       "    </tr>\n",
       "    <tr>\n",
       "      <th>338070</th>\n",
       "      <td>338071</td>\n",
       "      <td>Shia LaBeouf caught on camera trying to start ...</td>\n",
       "      <td>http://www.dailymail.co.uk/news/article-267464...</td>\n",
       "      <td>Daily Mail</td>\n",
       "      <td>e</td>\n",
       "      <td>dSxCH6eKHibCnTML3kb-li9KO9EUM</td>\n",
       "      <td>www.dailymail.co.uk</td>\n",
       "      <td>1404173341772</td>\n",
       "    </tr>\n",
       "    <tr>\n",
       "      <th>204290</th>\n",
       "      <td>204291</td>\n",
       "      <td>FOREX-Euro stabilises but still in the doldrum...</td>\n",
       "      <td>http://in.reuters.com/article/2014/05/12/marke...</td>\n",
       "      <td>Reuters</td>\n",
       "      <td>b</td>\n",
       "      <td>dD9KiKxKgLuWRPM28WVjw7zq_jrwM</td>\n",
       "      <td>in.reuters.com</td>\n",
       "      <td>1399906422631</td>\n",
       "    </tr>\n",
       "    <tr>\n",
       "      <th>245347</th>\n",
       "      <td>245348</td>\n",
       "      <td>Thomas Piketty's Inequality Data Contains 'Une...</td>\n",
       "      <td>http://www.huffingtonpost.com/2014/05/23/piket...</td>\n",
       "      <td>Huffington Post</td>\n",
       "      <td>b</td>\n",
       "      <td>d35mLvcHWE5yG7MxS4fduJ4G1Mj8M</td>\n",
       "      <td>www.huffingtonpost.com</td>\n",
       "      <td>1400927739560</td>\n",
       "    </tr>\n",
       "    <tr>\n",
       "      <th>340423</th>\n",
       "      <td>340424</td>\n",
       "      <td>Facebook's Emotional Manipulation Study: When ...</td>\n",
       "      <td>http://www.huffingtonpost.com/edward-w-felten/...</td>\n",
       "      <td>Huffington Post</td>\n",
       "      <td>t</td>\n",
       "      <td>de6bx-IZO06XfNMnoq4pEW5x7CkpM</td>\n",
       "      <td>www.huffingtonpost.com</td>\n",
       "      <td>1404230290259</td>\n",
       "    </tr>\n",
       "    <tr>\n",
       "      <th>...</th>\n",
       "      <td>...</td>\n",
       "      <td>...</td>\n",
       "      <td>...</td>\n",
       "      <td>...</td>\n",
       "      <td>...</td>\n",
       "      <td>...</td>\n",
       "      <td>...</td>\n",
       "      <td>...</td>\n",
       "    </tr>\n",
       "    <tr>\n",
       "      <th>121384</th>\n",
       "      <td>121385</td>\n",
       "      <td>US Urges China to Allow Bigger Market Role in ...</td>\n",
       "      <td>http://www.businessweek.com/news/2014-04-15/ch...</td>\n",
       "      <td>Businessweek</td>\n",
       "      <td>b</td>\n",
       "      <td>dWK-TpL6oA-R2xMT3ehD0xJgecjVM</td>\n",
       "      <td>www.businessweek.com</td>\n",
       "      <td>1397645907762</td>\n",
       "    </tr>\n",
       "    <tr>\n",
       "      <th>371365</th>\n",
       "      <td>371366</td>\n",
       "      <td>Emerging Stocks Retreat on Valuations While Ru...</td>\n",
       "      <td>http://www.businessweek.com/news/2014-07-09/em...</td>\n",
       "      <td>Businessweek</td>\n",
       "      <td>b</td>\n",
       "      <td>dpXIE2Bj1Tjn35MEY-xCskzKo9DuM</td>\n",
       "      <td>www.businessweek.com</td>\n",
       "      <td>1404896315952</td>\n",
       "    </tr>\n",
       "    <tr>\n",
       "      <th>261084</th>\n",
       "      <td>261085</td>\n",
       "      <td>Kanye West - Kanye West gives Kim Kardashian p...</td>\n",
       "      <td>http://www.contactmusic.com/story/kanye-west-g...</td>\n",
       "      <td>Contactmusic.com</td>\n",
       "      <td>e</td>\n",
       "      <td>djpzRcf54h1EmRM8L8WzbLk2eCN9M</td>\n",
       "      <td>www.contactmusic.com</td>\n",
       "      <td>1401296475496</td>\n",
       "    </tr>\n",
       "    <tr>\n",
       "      <th>303611</th>\n",
       "      <td>303612</td>\n",
       "      <td>Corey Hawkins - Movie Bosses Announce Nwa Biop...</td>\n",
       "      <td>http://www.contactmusic.com/story/movie-bosses...</td>\n",
       "      <td>Contactmusic.com</td>\n",
       "      <td>e</td>\n",
       "      <td>dp9KVurfVJnajSM8yNP5CXkf7jmGM</td>\n",
       "      <td>www.contactmusic.com</td>\n",
       "      <td>1403133137158</td>\n",
       "    </tr>\n",
       "    <tr>\n",
       "      <th>192749</th>\n",
       "      <td>192750</td>\n",
       "      <td>Draghi Ready to Cut Rates in June as Euro Hurt...</td>\n",
       "      <td>http://www.businessweek.com/news/2014-05-08/dr...</td>\n",
       "      <td>Businessweek</td>\n",
       "      <td>b</td>\n",
       "      <td>dj2gaJQ71DfKWyMRvKbZUWIkrAKLM</td>\n",
       "      <td>www.businessweek.com</td>\n",
       "      <td>1399562343473</td>\n",
       "    </tr>\n",
       "  </tbody>\n",
       "</table>\n",
       "<p>13356 rows × 8 columns</p>\n",
       "</div>"
      ],
      "text/plain": [
       "            ID                                              TITLE  \\\n",
       "354846  354847  Ashley Olsen wanders around New York alone... ...   \n",
       "338070  338071  Shia LaBeouf caught on camera trying to start ...   \n",
       "204290  204291  FOREX-Euro stabilises but still in the doldrum...   \n",
       "245347  245348  Thomas Piketty's Inequality Data Contains 'Une...   \n",
       "340423  340424  Facebook's Emotional Manipulation Study: When ...   \n",
       "...        ...                                                ...   \n",
       "121384  121385  US Urges China to Allow Bigger Market Role in ...   \n",
       "371365  371366  Emerging Stocks Retreat on Valuations While Ru...   \n",
       "261084  261085  Kanye West - Kanye West gives Kim Kardashian p...   \n",
       "303611  303612  Corey Hawkins - Movie Bosses Announce Nwa Biop...   \n",
       "192749  192750  Draghi Ready to Cut Rates in June as Euro Hurt...   \n",
       "\n",
       "                                                      URL         PUBLISHER  \\\n",
       "354846  http://www.dailymail.co.uk/tvshowbiz/article-2...        Daily Mail   \n",
       "338070  http://www.dailymail.co.uk/news/article-267464...        Daily Mail   \n",
       "204290  http://in.reuters.com/article/2014/05/12/marke...           Reuters   \n",
       "245347  http://www.huffingtonpost.com/2014/05/23/piket...   Huffington Post   \n",
       "340423  http://www.huffingtonpost.com/edward-w-felten/...   Huffington Post   \n",
       "...                                                   ...               ...   \n",
       "121384  http://www.businessweek.com/news/2014-04-15/ch...      Businessweek   \n",
       "371365  http://www.businessweek.com/news/2014-07-09/em...      Businessweek   \n",
       "261084  http://www.contactmusic.com/story/kanye-west-g...  Contactmusic.com   \n",
       "303611  http://www.contactmusic.com/story/movie-bosses...  Contactmusic.com   \n",
       "192749  http://www.businessweek.com/news/2014-05-08/dr...      Businessweek   \n",
       "\n",
       "       CATEGORY                          STORY                HOSTNAME  \\\n",
       "354846        e  dPSNq-ryU61MAnM_8crG98Jbbpm7M     www.dailymail.co.uk   \n",
       "338070        e  dSxCH6eKHibCnTML3kb-li9KO9EUM     www.dailymail.co.uk   \n",
       "204290        b  dD9KiKxKgLuWRPM28WVjw7zq_jrwM          in.reuters.com   \n",
       "245347        b  d35mLvcHWE5yG7MxS4fduJ4G1Mj8M  www.huffingtonpost.com   \n",
       "340423        t  de6bx-IZO06XfNMnoq4pEW5x7CkpM  www.huffingtonpost.com   \n",
       "...         ...                            ...                     ...   \n",
       "121384        b  dWK-TpL6oA-R2xMT3ehD0xJgecjVM    www.businessweek.com   \n",
       "371365        b  dpXIE2Bj1Tjn35MEY-xCskzKo9DuM    www.businessweek.com   \n",
       "261084        e  djpzRcf54h1EmRM8L8WzbLk2eCN9M    www.contactmusic.com   \n",
       "303611        e  dp9KVurfVJnajSM8yNP5CXkf7jmGM    www.contactmusic.com   \n",
       "192749        b  dj2gaJQ71DfKWyMRvKbZUWIkrAKLM    www.businessweek.com   \n",
       "\n",
       "            TIMESTAMP  \n",
       "354846  1404464983854  \n",
       "338070  1404173341772  \n",
       "204290  1399906422631  \n",
       "245347  1400927739560  \n",
       "340423  1404230290259  \n",
       "...               ...  \n",
       "121384  1397645907762  \n",
       "371365  1404896315952  \n",
       "261084  1401296475496  \n",
       "303611  1403133137158  \n",
       "192749  1399562343473  \n",
       "\n",
       "[13356 rows x 8 columns]"
      ]
     },
     "execution_count": 27,
     "metadata": {},
     "output_type": "execute_result"
    }
   ],
   "source": [
    "shuffled_input = csv_input.sample(frac=1)\n",
    "shuffled_input"
   ]
  },
  {
   "cell_type": "code",
   "execution_count": 28,
   "id": "0ea4aabe-65ac-4cf1-81a8-c1d6df38a1b6",
   "metadata": {},
   "outputs": [
    {
     "data": {
      "image/png": "[encoded data removed]",
      "text/plain": [
       "<Figure size 1080x72 with 1 Axes>"
      ]
     },
     "metadata": {
      "needs_background": "light"
     },
     "output_type": "display_data"
    }
   ],
   "source": [
    "import mglearn\n",
    "\n",
    "mglearn.plots.plot_threefold_split()"
   ]
  },
  {
   "cell_type": "code",
   "execution_count": 29,
   "id": "7934879d-9a69-4b4d-9ff5-90d313468a53",
   "metadata": {},
   "outputs": [
    {
     "data": {
      "image/png": "[encoded data removed]",
      "text/plain": [
       "<Figure size 864x144 with 1 Axes>"
      ]
     },
     "metadata": {
      "needs_background": "light"
     },
     "output_type": "display_data"
    }
   ],
   "source": [
    "mglearn.plots.plot_cross_validation()"
   ]
  },
  {
   "cell_type": "code",
   "execution_count": 30,
   "id": "66efb08a-28b8-4c80-bff2-66329cbc4f2f",
   "metadata": {},
   "outputs": [],
   "source": [
    "from sklearn.model_selection import train_test_split\n",
    "\n",
    "X = shuffled_input[[\"TITLE\", \"CATEGORY\"]].copy()  #　このcopy(),めちゃくちゃ大事！pandasは=でコピーするとコピー先で何か変更があった際にコピー元にも同様の変更が反映されてしまう。\n",
    "X[\"CATEGORY\"] = X[\"CATEGORY\"].map({\"b\": 0, \"e\": 1, \"t\": 2, \"m\": 3})\n",
    "y = shuffled_input[\"CATEGORY\"]\n",
    "\n",
    "#scikit-learnのtrain_test_split()を使ってデータを分割する\n",
    "train_data, val_test_data, y_train, y_val_test = train_test_split(X, y, test_size = 0.2, stratify=y, random_state=10)  # 学習データとそれ以外の分割\n",
    "valid_data, test_data = train_test_split(val_test_data, test_size=0.5, stratify=y_val_test, random_state=10)  # 検証データと評価データの分割\n",
    "\n",
    "#データをCSVファイルとして書き出し\n",
    "train_data.to_csv(\"./work/train.txt\", sep=\"\\t\", index=False, header=None)\n",
    "valid_data.to_csv(\"./work/valid.txt\", sep=\"\\t\", index=False, header=None)\n",
    "test_data.to_csv(\"./work/test.txt\", sep=\"\\t\", index=False, header=None)"
   ]
  },
  {
   "cell_type": "code",
   "execution_count": 31,
   "id": "0a2de742-e285-4e59-91f8-1f2256af0852",
   "metadata": {},
   "outputs": [
    {
     "name": "stdout",
     "output_type": "stream",
     "text": [
      "length of train_data = 10684\n",
      "length of valid_data = 1336\n",
      "length of test_data = 1336\n"
     ]
    }
   ],
   "source": [
    "print(\"length of train_data = {}\".format(len(train_data)))\n",
    "print(\"length of valid_data = {}\".format(len(valid_data)))\n",
    "print(\"length of test_data = {}\".format(len(test_data)))"
   ]
  },
  {
   "cell_type": "markdown",
   "id": "8b478cd6-e90b-47d2-bc35-ac44e41e6f69",
   "metadata": {},
   "source": [
    "## #51.特徴量抽出"
   ]
  },
  {
   "cell_type": "code",
   "execution_count": 32,
   "id": "4eb81066-d558-4e67-b696-0aa3c114ef29",
   "metadata": {},
   "outputs": [],
   "source": [
    "import re\n",
    "import pprint\n",
    "feature = []\n",
    "with open(\"./work/test.txt\") as f:\n",
    "    for line in f:\n",
    "        title, category_num = line.split(\"\\t\")\n",
    "        category_num = category_num.rstrip()\n",
    "        title = title.split(\" \")\n",
    "        \n",
    "        feature.append([title, category_num])\n",
    "\n",
    "#print(feature)\n",
    "#pprint.pprint(feature)"
   ]
  },
  {
   "cell_type": "code",
   "execution_count": 33,
   "id": "f4d16060-e523-46a9-a9e1-eda5f2c15daf",
   "metadata": {},
   "outputs": [
    {
     "name": "stdout",
     "output_type": "stream",
     "text": [
      "                                                   TITLE  CATEGORY\n",
      "0      Madonna and The Celebrities Who Love 'Game of ...         1\n",
      "1      Osborne to Pledge UK Austerity Will Deliver Re...         0\n",
      "2      Cameron Diaz Opens Up To Esquire About Getting...         1\n",
      "3      L'wren Scott - L'Wren Scott's housekeeper reve...         1\n",
      "4      Paul Walker's Fatal Car Crash Was Due To High ...         1\n",
      "...                                                  ...       ...\n",
      "10679  Capital One profit rises 10 pct due to lower p...         0\n",
      "10680  Roche to Buy Cancer-Drug Maker for Up to $1.7 ...         0\n",
      "10681  Man Travels From NY To Miami Without Spending ...         0\n",
      "10682  Sprint's revenue beats estimate as network upg...         2\n",
      "10683  Can healthy dose of sunshine reduce your blood...         3\n",
      "\n",
      "[10684 rows x 2 columns]\n"
     ]
    }
   ],
   "source": [
    "train_data = pd.read_table(\"./work/train.txt\", header=None, names=[\"TITLE\", \"CATEGORY\"])\n",
    "valid_data = pd.read_table(\"./work/valid.txt\", header=None, names=[\"TITLE\", \"CATEGORY\"])\n",
    "test_data = pd.read_table(\"./work/test.txt\", header=None, names=[\"TITLE\", \"CATEGORY\"])\n",
    "\n",
    "print(train_data)"
   ]
  },
  {
   "cell_type": "code",
   "execution_count": 34,
   "id": "1356127e-a585-4918-bd09-1ea21b16403c",
   "metadata": {},
   "outputs": [],
   "source": [
    "#出現する単語のカウントを特徴量にする手法であるCountVectorizerを使ってみる.\n",
    "from sklearn.feature_extraction.text import CountVectorizer\n",
    "import pickle\n",
    "\n",
    "vectorizer = CountVectorizer(stop_words=\"english\")\n",
    "\n",
    "vectorizer.fit(train_data[\"TITLE\"])\n",
    "\n",
    "X_train = vectorizer.transform(train_data[\"TITLE\"])\n",
    "X_valid = vectorizer.transform(valid_data[\"TITLE\"])\n",
    "X_test = vectorizer.transform(test_data[\"TITLE\"])\n",
    "\n",
    "file_name = \"params.pkl\"\n",
    "\n",
    "for head_name in [\"train\", \"valid\", \"test\"]:\n",
    "    file_name = \"./work/{}.feature.pkl\".format(head_name)\n",
    "    with open(file_name, \"wb\") as f:\n",
    "        pickle.dump(globals()[\"X_\"+head_name], f)"
   ]
  },
  {
   "cell_type": "code",
   "execution_count": 35,
   "id": "6a391329-a901-4067-8e61-00fe23cf2f8a",
   "metadata": {},
   "outputs": [
    {
     "name": "stdout",
     "output_type": "stream",
     "text": [
      "<class 'scipy.sparse.csr.csr_matrix'>\n",
      "(1336, 12533)\n",
      "[[0 0 0 ... 0 0 0]\n",
      " [0 0 0 ... 0 0 0]\n",
      " [0 0 0 ... 0 0 0]\n",
      " ...\n",
      " [0 0 0 ... 0 0 0]\n",
      " [0 0 0 ... 0 0 0]\n",
      " [0 0 0 ... 0 0 0]]\n"
     ]
    }
   ],
   "source": [
    "with open(\"./work/test.feature.pkl\", \"rb\") as f:\n",
    "    data = pickle.load(f)\n",
    "\n",
    "print(type(data))\n",
    "print(data.shape)\n",
    "print(data.toarray())"
   ]
  },
  {
   "cell_type": "code",
   "execution_count": 36,
   "id": "2ce0ea5e-89c9-4261-9e3d-36d8342a3f81",
   "metadata": {},
   "outputs": [],
   "source": [
    "#もう一個、TF-IDF法を使ってみる(確認:TF-IDFとはTF（単語の出現頻度）とIDF（単語のレア度）を掛け合わせたもの)\n",
    "\n",
    "from sklearn.feature_extraction.text import TfidfVectorizer\n",
    "\n",
    "vectorizer2 = TfidfVectorizer(stop_words=\"english\")\n",
    "vectorizer2.fit(train_data[\"TITLE\"])\n",
    "\n",
    "X_train_TFIDF = vectorizer2.transform(train_data[\"TITLE\"])\n",
    "X_valid_TFIDF = vectorizer2.transform(valid_data[\"TITLE\"])\n",
    "X_test_TFIDF = vectorizer2.transform(test_data[\"TITLE\"])\n",
    "\n",
    "file_name = \"params.pkl\"\n",
    "\n",
    "for head_name in [\"train\", \"valid\", \"test\"]:\n",
    "    file_name = \"./work/{}_TFIDF.feature.pkl\".format(head_name)\n",
    "    with open(file_name, \"wb\") as f:\n",
    "        pickle.dump(globals()[\"X_\"+head_name+\"_TFIDF\"], f)"
   ]
  },
  {
   "cell_type": "code",
   "execution_count": 37,
   "id": "6521bf8b-b308-4d11-8817-d9a4522a3da4",
   "metadata": {},
   "outputs": [
    {
     "name": "stdout",
     "output_type": "stream",
     "text": [
      "<class 'scipy.sparse.csr.csr_matrix'>\n",
      "(1336, 12533)\n",
      "[[0. 0. 0. ... 0. 0. 0.]\n",
      " [0. 0. 0. ... 0. 0. 0.]\n",
      " [0. 0. 0. ... 0. 0. 0.]\n",
      " ...\n",
      " [0. 0. 0. ... 0. 0. 0.]\n",
      " [0. 0. 0. ... 0. 0. 0.]\n",
      " [0. 0. 0. ... 0. 0. 0.]]\n"
     ]
    }
   ],
   "source": [
    "with open(\"./work/test_TFIDF.feature.pkl\", \"rb\") as f:\n",
    "    data = pickle.load(f)\n",
    "\n",
    "print(type(data))\n",
    "print(data.shape)\n",
    "print(data.toarray())"
   ]
  },
  {
   "cell_type": "markdown",
   "id": "7f6fcfdc-53e6-4b99-8310-3927f8191fd1",
   "metadata": {},
   "source": [
    "## #52.学習"
   ]
  },
  {
   "cell_type": "code",
   "execution_count": 38,
   "id": "8cfc1c22-b135-4a4c-8d66-684e585859ac",
   "metadata": {},
   "outputs": [
    {
     "name": "stdout",
     "output_type": "stream",
     "text": [
      "Train set accuracy score = 0.9962560838637214\n"
     ]
    }
   ],
   "source": [
    "#ロジスティック回帰は、一連の予測変数の値に基づいて特性または結果の有無を予測する必要がある場合に役立ちます。\n",
    "#線型回帰モデルに似ていますが、従属変数が二分変数であるモデルに適しています。\n",
    "#ロジスティック回帰係数を使用して、モデル内の各独立変数のオッズ比を推定することができます\n",
    "\n",
    "from sklearn.linear_model import LogisticRegression\n",
    "\n",
    "with open(\"./work/train.feature.pkl\", \"rb\") as f:\n",
    "    train_X = pickle.load(f)\n",
    "train_y = train_data[\"CATEGORY\"]\n",
    "\n",
    "model = LogisticRegression(max_iter=200)\n",
    "\n",
    "results = model.fit(train_X, train_y)\n",
    "\n",
    "print(\"Train set accuracy score = {}\".format(results.score(train_X, train_y)))"
   ]
  },
  {
   "cell_type": "code",
   "execution_count": 39,
   "id": "49d58b29-3301-40ec-8ecb-4b547fb535a9",
   "metadata": {},
   "outputs": [
    {
     "name": "stdout",
     "output_type": "stream",
     "text": [
      "Train set accuracy score(Using TF-IDF) = 0.9517034818420067\n"
     ]
    }
   ],
   "source": [
    "# TFIDFを用いる\n",
    "\n",
    "from sklearn.linear_model import LogisticRegression\n",
    "\n",
    "with open(\"./work/train_TFIDf.feature.pkl\", \"rb\") as f:\n",
    "    train_X_TFIDF = pickle.load(f)\n",
    "train_y_TFIDF = train_data[\"CATEGORY\"]\n",
    "\n",
    "model_TFIDF = LogisticRegression(max_iter=200)\n",
    "\n",
    "results_TFIDF = model_TFIDF.fit(train_X_TFIDF, train_y_TFIDF)\n",
    "\n",
    "print(\"Train set accuracy score(Using TF-IDF) = {}\".format(results_TFIDF.score(train_X_TFIDF, train_y_TFIDF)))"
   ]
  },
  {
   "cell_type": "markdown",
   "id": "7abb9e18-3475-490f-ace0-c3d648a4c745",
   "metadata": {},
   "source": [
    "## #53.予測"
   ]
  },
  {
   "cell_type": "code",
   "execution_count": 40,
   "id": "60020249-cbd7-41ba-89a0-784fffe43e84",
   "metadata": {},
   "outputs": [
    {
     "name": "stdout",
     "output_type": "stream",
     "text": [
      "[[1.06691634e-03 9.95357979e-01 2.76122163e-03 8.13882666e-04]\n",
      " [8.88686160e-01 6.08495797e-02 2.54638419e-02 2.50004185e-02]\n",
      " [1.77623990e-02 9.59834989e-01 6.61471042e-03 1.57879014e-02]\n",
      " ...\n",
      " [7.78612140e-01 1.96602655e-01 9.97659577e-03 1.48086096e-02]\n",
      " [1.63185522e-01 3.06145429e-02 7.89218457e-01 1.69814779e-02]\n",
      " [6.42585157e-03 3.06931251e-03 6.00555206e-03 9.84499284e-01]] (10684, 4)\n",
      "[1 0 1 ... 0 2 3] (10684,)\n"
     ]
    }
   ],
   "source": [
    "probs = model.predict_proba(train_X)\n",
    "pred = model.predict(train_X)\n",
    "\n",
    "print(probs, probs.shape)\n",
    "print(pred, pred.shape)"
   ]
  },
  {
   "cell_type": "code",
   "execution_count": 41,
   "id": "d2453466-abd1-447a-9888-cc6fa650200f",
   "metadata": {},
   "outputs": [
    {
     "name": "stdout",
     "output_type": "stream",
     "text": [
      "[[0.00959872 0.97228438 0.01187663 0.00624026]\n",
      " [0.71169709 0.17140769 0.06871712 0.0481781 ]\n",
      " [0.08252889 0.83055193 0.0411333  0.04578587]\n",
      " ...\n",
      " [0.52327201 0.37512483 0.04992591 0.05167724]\n",
      " [0.30904449 0.13958272 0.5014265  0.04994629]\n",
      " [0.08110965 0.07130163 0.05984327 0.78774545]] (10684, 4)\n",
      "[1 0 1 ... 0 2 3] (10684,)\n"
     ]
    }
   ],
   "source": [
    "probs_TFIDF = model_TFIDF.predict_proba(train_X_TFIDF)\n",
    "pred_TFIDF = model_TFIDF.predict(train_X_TFIDF)\n",
    "\n",
    "print(probs_TFIDF, probs_TFIDF.shape)\n",
    "print(pred_TFIDF, pred_TFIDF.shape)"
   ]
  },
  {
   "cell_type": "markdown",
   "id": "d045d824-68f7-45bb-9026-4753d3102b4b",
   "metadata": {},
   "source": [
    "## #54.正解率の計測"
   ]
  },
  {
   "cell_type": "code",
   "execution_count": 42,
   "id": "fbe77100-d40a-4919-8414-856b607cb1f5",
   "metadata": {},
   "outputs": [
    {
     "name": "stdout",
     "output_type": "stream",
     "text": [
      "train data accuracy : 0.9962560838637214\n"
     ]
    },
    {
     "ename": "ValueError",
     "evalue": "Found input variables with inconsistent numbers of samples: [1336, 10684]",
     "output_type": "error",
     "traceback": [
      "\u001b[0;31m---------------------------------------------------------------------------\u001b[0m",
      "\u001b[0;31mValueError\u001b[0m                                Traceback (most recent call last)",
      "\u001b[0;32m<ipython-input-42-65eba5b45359>\u001b[0m in \u001b[0;36m<module>\u001b[0;34m\u001b[0m\n\u001b[1;32m     10\u001b[0m \u001b[0;34m\u001b[0m\u001b[0m\n\u001b[1;32m     11\u001b[0m \u001b[0mprint\u001b[0m\u001b[0;34m(\u001b[0m\u001b[0;34m\"train data accuracy : {}\"\u001b[0m\u001b[0;34m.\u001b[0m\u001b[0mformat\u001b[0m\u001b[0;34m(\u001b[0m\u001b[0maccuracy_score\u001b[0m\u001b[0;34m(\u001b[0m\u001b[0mtrain_y\u001b[0m\u001b[0;34m,\u001b[0m \u001b[0mpred\u001b[0m\u001b[0;34m)\u001b[0m\u001b[0;34m)\u001b[0m\u001b[0;34m)\u001b[0m\u001b[0;34m\u001b[0m\u001b[0;34m\u001b[0m\u001b[0m\n\u001b[0;32m---> 12\u001b[0;31m \u001b[0mprint\u001b[0m\u001b[0;34m(\u001b[0m\u001b[0;34m\"test data accuracy : {}\"\u001b[0m\u001b[0;34m.\u001b[0m\u001b[0mformat\u001b[0m\u001b[0;34m(\u001b[0m\u001b[0maccuracy_score\u001b[0m\u001b[0;34m(\u001b[0m\u001b[0mtest_y\u001b[0m\u001b[0;34m,\u001b[0m \u001b[0mpred\u001b[0m\u001b[0;34m)\u001b[0m\u001b[0;34m)\u001b[0m\u001b[0;34m)\u001b[0m\u001b[0;34m\u001b[0m\u001b[0;34m\u001b[0m\u001b[0m\n\u001b[0m\u001b[1;32m     13\u001b[0m \u001b[0;34m\u001b[0m\u001b[0m\n\u001b[1;32m     14\u001b[0m \u001b[0mprint\u001b[0m\u001b[0;34m(\u001b[0m\u001b[0;34m\"train data accuracy(Using TFIDF) : {}\"\u001b[0m\u001b[0;34m.\u001b[0m\u001b[0mformat\u001b[0m\u001b[0;34m(\u001b[0m\u001b[0maccuracy_score\u001b[0m\u001b[0;34m(\u001b[0m\u001b[0mtrain_y_TFIDF\u001b[0m\u001b[0;34m,\u001b[0m \u001b[0mpred_TFIDF\u001b[0m\u001b[0;34m)\u001b[0m\u001b[0;34m)\u001b[0m\u001b[0;34m)\u001b[0m\u001b[0;34m\u001b[0m\u001b[0;34m\u001b[0m\u001b[0m\n",
      "\u001b[0;32m~/.pyenv/versions/anaconda3-2021.05/lib/python3.8/site-packages/sklearn/utils/validation.py\u001b[0m in \u001b[0;36minner_f\u001b[0;34m(*args, **kwargs)\u001b[0m\n\u001b[1;32m     61\u001b[0m             \u001b[0mextra_args\u001b[0m \u001b[0;34m=\u001b[0m \u001b[0mlen\u001b[0m\u001b[0;34m(\u001b[0m\u001b[0margs\u001b[0m\u001b[0;34m)\u001b[0m \u001b[0;34m-\u001b[0m \u001b[0mlen\u001b[0m\u001b[0;34m(\u001b[0m\u001b[0mall_args\u001b[0m\u001b[0;34m)\u001b[0m\u001b[0;34m\u001b[0m\u001b[0;34m\u001b[0m\u001b[0m\n\u001b[1;32m     62\u001b[0m             \u001b[0;32mif\u001b[0m \u001b[0mextra_args\u001b[0m \u001b[0;34m<=\u001b[0m \u001b[0;36m0\u001b[0m\u001b[0;34m:\u001b[0m\u001b[0;34m\u001b[0m\u001b[0;34m\u001b[0m\u001b[0m\n\u001b[0;32m---> 63\u001b[0;31m                 \u001b[0;32mreturn\u001b[0m \u001b[0mf\u001b[0m\u001b[0;34m(\u001b[0m\u001b[0;34m*\u001b[0m\u001b[0margs\u001b[0m\u001b[0;34m,\u001b[0m \u001b[0;34m**\u001b[0m\u001b[0mkwargs\u001b[0m\u001b[0;34m)\u001b[0m\u001b[0;34m\u001b[0m\u001b[0;34m\u001b[0m\u001b[0m\n\u001b[0m\u001b[1;32m     64\u001b[0m \u001b[0;34m\u001b[0m\u001b[0m\n\u001b[1;32m     65\u001b[0m             \u001b[0;31m# extra_args > 0\u001b[0m\u001b[0;34m\u001b[0m\u001b[0;34m\u001b[0m\u001b[0;34m\u001b[0m\u001b[0m\n",
      "\u001b[0;32m~/.pyenv/versions/anaconda3-2021.05/lib/python3.8/site-packages/sklearn/metrics/_classification.py\u001b[0m in \u001b[0;36maccuracy_score\u001b[0;34m(y_true, y_pred, normalize, sample_weight)\u001b[0m\n\u001b[1;32m    200\u001b[0m \u001b[0;34m\u001b[0m\u001b[0m\n\u001b[1;32m    201\u001b[0m     \u001b[0;31m# Compute accuracy for each possible representation\u001b[0m\u001b[0;34m\u001b[0m\u001b[0;34m\u001b[0m\u001b[0;34m\u001b[0m\u001b[0m\n\u001b[0;32m--> 202\u001b[0;31m     \u001b[0my_type\u001b[0m\u001b[0;34m,\u001b[0m \u001b[0my_true\u001b[0m\u001b[0;34m,\u001b[0m \u001b[0my_pred\u001b[0m \u001b[0;34m=\u001b[0m \u001b[0m_check_targets\u001b[0m\u001b[0;34m(\u001b[0m\u001b[0my_true\u001b[0m\u001b[0;34m,\u001b[0m \u001b[0my_pred\u001b[0m\u001b[0;34m)\u001b[0m\u001b[0;34m\u001b[0m\u001b[0;34m\u001b[0m\u001b[0m\n\u001b[0m\u001b[1;32m    203\u001b[0m     \u001b[0mcheck_consistent_length\u001b[0m\u001b[0;34m(\u001b[0m\u001b[0my_true\u001b[0m\u001b[0;34m,\u001b[0m \u001b[0my_pred\u001b[0m\u001b[0;34m,\u001b[0m \u001b[0msample_weight\u001b[0m\u001b[0;34m)\u001b[0m\u001b[0;34m\u001b[0m\u001b[0;34m\u001b[0m\u001b[0m\n\u001b[1;32m    204\u001b[0m     \u001b[0;32mif\u001b[0m \u001b[0my_type\u001b[0m\u001b[0;34m.\u001b[0m\u001b[0mstartswith\u001b[0m\u001b[0;34m(\u001b[0m\u001b[0;34m'multilabel'\u001b[0m\u001b[0;34m)\u001b[0m\u001b[0;34m:\u001b[0m\u001b[0;34m\u001b[0m\u001b[0;34m\u001b[0m\u001b[0m\n",
      "\u001b[0;32m~/.pyenv/versions/anaconda3-2021.05/lib/python3.8/site-packages/sklearn/metrics/_classification.py\u001b[0m in \u001b[0;36m_check_targets\u001b[0;34m(y_true, y_pred)\u001b[0m\n\u001b[1;32m     81\u001b[0m     \u001b[0my_pred\u001b[0m \u001b[0;34m:\u001b[0m \u001b[0marray\u001b[0m \u001b[0;32mor\u001b[0m \u001b[0mindicator\u001b[0m \u001b[0mmatrix\u001b[0m\u001b[0;34m\u001b[0m\u001b[0;34m\u001b[0m\u001b[0m\n\u001b[1;32m     82\u001b[0m     \"\"\"\n\u001b[0;32m---> 83\u001b[0;31m     \u001b[0mcheck_consistent_length\u001b[0m\u001b[0;34m(\u001b[0m\u001b[0my_true\u001b[0m\u001b[0;34m,\u001b[0m \u001b[0my_pred\u001b[0m\u001b[0;34m)\u001b[0m\u001b[0;34m\u001b[0m\u001b[0;34m\u001b[0m\u001b[0m\n\u001b[0m\u001b[1;32m     84\u001b[0m     \u001b[0mtype_true\u001b[0m \u001b[0;34m=\u001b[0m \u001b[0mtype_of_target\u001b[0m\u001b[0;34m(\u001b[0m\u001b[0my_true\u001b[0m\u001b[0;34m)\u001b[0m\u001b[0;34m\u001b[0m\u001b[0;34m\u001b[0m\u001b[0m\n\u001b[1;32m     85\u001b[0m     \u001b[0mtype_pred\u001b[0m \u001b[0;34m=\u001b[0m \u001b[0mtype_of_target\u001b[0m\u001b[0;34m(\u001b[0m\u001b[0my_pred\u001b[0m\u001b[0;34m)\u001b[0m\u001b[0;34m\u001b[0m\u001b[0;34m\u001b[0m\u001b[0m\n",
      "\u001b[0;32m~/.pyenv/versions/anaconda3-2021.05/lib/python3.8/site-packages/sklearn/utils/validation.py\u001b[0m in \u001b[0;36mcheck_consistent_length\u001b[0;34m(*arrays)\u001b[0m\n\u001b[1;32m    260\u001b[0m     \u001b[0muniques\u001b[0m \u001b[0;34m=\u001b[0m \u001b[0mnp\u001b[0m\u001b[0;34m.\u001b[0m\u001b[0munique\u001b[0m\u001b[0;34m(\u001b[0m\u001b[0mlengths\u001b[0m\u001b[0;34m)\u001b[0m\u001b[0;34m\u001b[0m\u001b[0;34m\u001b[0m\u001b[0m\n\u001b[1;32m    261\u001b[0m     \u001b[0;32mif\u001b[0m \u001b[0mlen\u001b[0m\u001b[0;34m(\u001b[0m\u001b[0muniques\u001b[0m\u001b[0;34m)\u001b[0m \u001b[0;34m>\u001b[0m \u001b[0;36m1\u001b[0m\u001b[0;34m:\u001b[0m\u001b[0;34m\u001b[0m\u001b[0;34m\u001b[0m\u001b[0m\n\u001b[0;32m--> 262\u001b[0;31m         raise ValueError(\"Found input variables with inconsistent numbers of\"\n\u001b[0m\u001b[1;32m    263\u001b[0m                          \" samples: %r\" % [int(l) for l in lengths])\n\u001b[1;32m    264\u001b[0m \u001b[0;34m\u001b[0m\u001b[0m\n",
      "\u001b[0;31mValueError\u001b[0m: Found input variables with inconsistent numbers of samples: [1336, 10684]"
     ]
    }
   ],
   "source": [
    "from sklearn.metrics import accuracy_score\n",
    "\n",
    "with open(\"./work/test.feature.pkl\", 'rb') as f:\n",
    "    test_X = pickle.load(f)\n",
    "test_y = test_data['CATEGORY']\n",
    "\n",
    "with open(\"./work/test_TFIDF.feature.pkl\", 'rb') as f:\n",
    "    test_X_TFIDF = pickle.load(f)\n",
    "test_y_TFIDF = test_data['CATEGORY']\n",
    "\n",
    "\n",
    "print(\"train data accuracy : {}\".format(accuracy_score(train_y, pred)))\n",
    "print(\"test data accuracy : {}\".format(accuracy_score(test_y, pred)))\n",
    "\n",
    "print(\"train data accuracy(Using TFIDF) : {}\".format(accuracy_score(train_y_TFIDF, pred_TFIDF)))\n",
    "print(\"test data accuracy(Using TFIDF) : {}\".format(accuracy_score(test_y_TFIDF, pred_TFIDF)))"
   ]
  },
  {
   "cell_type": "code",
   "execution_count": null,
   "id": "e621fa1a-20d0-416c-b150-8543d4354cc2",
   "metadata": {},
   "outputs": [],
   "source": []
  }
 ],
 "metadata": {
  "kernelspec": {
   "display_name": "Python 3",
   "language": "python",
   "name": "python3"
  },
  "language_info": {
   "codemirror_mode": {
    "name": "ipython",
    "version": 3
   },
   "file_extension": ".py",
   "mimetype": "text/x-python",
   "name": "python",
   "nbconvert_exporter": "python",
   "pygments_lexer": "ipython3",
   "version": "3.8.8"
  }
 },
 "nbformat": 4,
 "nbformat_minor": 5
}
